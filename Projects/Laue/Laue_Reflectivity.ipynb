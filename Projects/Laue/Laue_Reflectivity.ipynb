{
 "cells": [
  {
   "cell_type": "markdown",
   "metadata": {
    "collapsed": false,
    "jupyter": {
     "outputs_hidden": false
    }
   },
   "source": [
    "# Note\n",
    "1. The kin should always be the same and not changing with the Ec\n",
    "2. When defining a fucntion that you are going to use a lot of times, only include the most essential part in the function.\n",
    "3. For scientific calculation, you need to have a mathematical theory for every equation / relation you use. Especially on the unit conversions with fft.\n",
    "4. When showing your results to others, always have all the related website and notebook ready for demonstration to prove yourself. For example, in this case, you need to have the x-server website open to show that you are using the correct chi value for this exact photon energy.\n",
    "5. Derive the theory carefully. Remove redundant factors in your calculation.\n",
    "6. I have told you sometime ago that with parameters from X-server, you do not need the polarization factor P because it is already included in their parameter."
   ]
  },
  {
   "cell_type": "code",
   "execution_count": 1,
   "metadata": {
    "ExecuteTime": {
     "end_time": "2024-06-19T04:43:33.310764900Z",
     "start_time": "2024-06-19T04:43:33.246234600Z"
    }
   },
   "outputs": [],
   "source": [
    "import numpy as np\n",
    "import matplotlib.pyplot as plt\n",
    "import time"
   ]
  },
  {
   "cell_type": "code",
   "execution_count": 2,
   "metadata": {
    "ExecuteTime": {
     "end_time": "2024-06-19T04:43:33.312763700Z",
     "start_time": "2024-06-19T04:43:33.266949200Z"
    }
   },
   "outputs": [],
   "source": [
    "# Constant\n",
    "hbar = 0.0006582119514  # This is the reduced planck constant in keV/fs\n",
    "c = 299792458. * 1e-9  # The speed of light in um / fs\n",
    "\n",
    "Diamond004 = {\"chi0\": complex(-0.15120e-4, 0.13215E-07),\n",
    "              \"chih_sigma\": complex(0.37815E-05, -0.12054E-07),\n",
    "              \"chihbar_sigma\": complex(0.37815E-05, -0.12054E-07),\n",
    "              \"chih_pi\": complex(0.45275E-09, -0.35732E-09),\n",
    "              \"chihbar_pi\": complex(0.45275E-09, -0.35732E-09),\n",
    "              \"spacing\": 0.89170e-4,  # [A]\n",
    "              \"bragg_angle\": 45.003  # [deg]          \n",
    "              }"
   ]
  },
  {
   "cell_type": "code",
   "execution_count": 3,
   "metadata": {
    "ExecuteTime": {
     "end_time": "2024-06-19T04:43:33.314169300Z",
     "start_time": "2024-06-19T04:43:33.290500700Z"
    }
   },
   "outputs": [],
   "source": [
    "def kev_to_wavevec_length(energy):\n",
    "    return energy / hbar / c\n",
    "\n",
    "def get_k_mesh_1d(number, energy_range):\n",
    "    \"\"\"\n",
    "    Get a (n,3) numpy array as the wave vector array.\n",
    "\n",
    "    Here, the output[:,2] contains non-zero values.\n",
    "    I.e. I assume that the propagation direction is along z direction.\n",
    "\n",
    "    :param number:\n",
    "    :param energy_range:\n",
    "    :return:\n",
    "    \"\"\"\n",
    "    # Get the corresponding energy mesh\n",
    "    energy_grid_z = np.linspace(start=- energy_range,\n",
    "                                stop=+ energy_range,\n",
    "                                num=number)\n",
    "\n",
    "    # Get the k grid\n",
    "    kz_grid = np.ascontiguousarray(kev_to_wavevec_length(energy=energy_grid_z))\n",
    "\n",
    "    # Get a wave vector array\n",
    "    k_grid = np.zeros((kz_grid.shape[0], 3), dtype=np.float64)\n",
    "    k_grid[:, 2] = kz_grid[:]\n",
    "\n",
    "    # Get the spatial mesh along z rotation_axis\n",
    "    dkz = kev_to_wavevec_length(energy=energy_grid_z[1] - energy_grid_z[0])\n",
    "    z_range = np.pi * 2 / dkz\n",
    "\n",
    "    z_idx = np.linspace(start=-z_range / 2., stop=z_range / 2., num=number)\n",
    "    z_idx_tick = [\"{:.2f}\".format(x) for x in z_idx]\n",
    "\n",
    "    # Assemble the indexes and labels\n",
    "    axis_info = {\"spatial_range\": z_range,\n",
    "                 \"spatial_grid\": z_idx,\n",
    "                 \"spatial_grid_tick\": z_idx_tick,\n",
    "                 \"dkz\": dkz,\n",
    "                 \"energy_grid\": energy_grid_z,\n",
    "                 \"time_grid\": np.divide(z_idx, c),\n",
    "                 \"time_grid_tick\": [\"{:.2f}\".format(x) for x in np.divide(z_idx, c)],\n",
    "                 }\n",
    "\n",
    "    return k_grid, axis_info\n",
    "\n",
    "\n",
    "def get_laue_transmission(kin_grid, normal_grid, h_grid, thickness, chi0, chih, chihbar):\n",
    "    \"\"\"\n",
    "    The first dimension is for different incident wave-vector\n",
    "    The second dimension is for different crystal angles\n",
    "    \"\"\"\n",
    "    dot_kn = np.dot(kin_grid, normal_grid.T)  # K0.z_hat\n",
    "    dot_kh = np.dot(kin_grid, h_grid.T)\n",
    "    dot_hn = np.sum(np.multiply(normal_grid, h_grid), axis=-1)[np.newaxis, :]\n",
    "    h_square = np.square(np.linalg.norm(h_grid, axis=-1)[np.newaxis, :])\n",
    "    klen_grid = np.linalg.norm(kin_grid, axis=-1)[:, np.newaxis]\n",
    "\n",
    "    gamma_0 = np.divide(dot_kn, klen_grid).astype(np.complex128)\n",
    "    gamma_h = np.divide(dot_kn + dot_hn, klen_grid).astype(np.complex128)\n",
    "    b = gamma_0 / gamma_h\n",
    "    alpha = np.divide(2 * dot_kh + h_square, klen_grid ** 2).astype(np.complex128)\n",
    "\n",
    "    #LambdaH_s = np.sin(theta_grid[np.newaxis, :]) / klen_grid[:, np.newaxis] / P / np.sqrt(chih * chihbar)\n",
    "    #LambdaHbar = LambdaH_s * np.sqrt(gamma_0 * np.abs(gamma_h)) / np.sin(theta_grid[np.newaxis, :])\n",
    "    LambdaHbar = np.sqrt(gamma_0 * np.abs(gamma_h)) / klen_grid / np.sqrt(chih * chihbar)\n",
    "\n",
    "    A_factor = thickness / LambdaHbar\n",
    "    C_factor = np.exp(np.divide(1j * chi0 * klen_grid * thickness / 2, gamma_0))\n",
    "    y_param = klen_grid * LambdaHbar / 2 / gamma_0 * (b * alpha + chi0 * (1 - b))\n",
    "\n",
    "    W = np.cos(A_factor / 2 * np.sqrt(y_param ** 2 + 1)) + 1j * y_param * np.sin(\n",
    "        A_factor / 2 * np.sqrt(y_param ** 2 + 1)) / np.sqrt(\n",
    "        y_param ** 2 + 1)\n",
    "    R00 = C_factor * np.exp(-1j * A_factor * y_param / 2) * W\n",
    "    return R00"
   ]
  },
  {
   "cell_type": "code",
   "execution_count": 40,
   "metadata": {
    "ExecuteTime": {
     "end_time": "2024-06-19T04:43:33.357992700Z",
     "start_time": "2024-06-19T04:43:33.322818300Z"
    },
    "collapsed": false,
    "jupyter": {
     "outputs_hidden": false
    }
   },
   "outputs": [],
   "source": [
    "thickness = 500 # um\n",
    "\n",
    "energy_center = 9.831  # keV  \n",
    "k0 = kev_to_wavevec_length(energy=energy_center)\n",
    "wavelength = np.pi * 2 / k0\n",
    "\n",
    "# Geometry Bragg angle\n",
    "theta_0 = np.arcsin(wavelength / 2 / Diamond004[\"spacing\"])\n",
    "\n",
    "# Create the series of crystal angle and wave-vectors for the study\n",
    "angle_num = 2 ** 10\n",
    "angle_lim = [theta_0 - np.deg2rad(0.01), theta_0 + np.deg2rad(0.01)]\n",
    "angle_list = np.linspace(start=angle_lim[0], stop=angle_lim[1], num=angle_num)\n",
    "\n",
    "h_length = np.pi * 2 / Diamond004[\"spacing\"]\n",
    "h_grid = np.zeros((angle_num, 3))\n",
    "h_grid[:, 1] = np.cos(angle_list)\n",
    "h_grid[:, 2] = -np.sin(angle_list)\n",
    "h_grid *= h_length\n",
    "\n",
    "normal_grid = np.zeros((angle_num, 3))\n",
    "normal_grid[:, 1] = np.sin(angle_list)\n",
    "normal_grid[:, 2] = np.cos(angle_list)\n",
    "\n",
    "k_num = 2 ** 11\n",
    "energy_range= 0.5e-3\n",
    "kin_grid, axis_info = get_k_mesh_1d(number=k_num, energy_range=energy_range)\n",
    "kin_grid[:, 2] += k0"
   ]
  },
  {
   "cell_type": "code",
   "execution_count": 48,
   "metadata": {
    "ExecuteTime": {
     "end_time": "2024-06-19T04:46:25.831335Z",
     "start_time": "2024-06-19T04:46:25.793928500Z"
    }
   },
   "outputs": [
    {
     "name": "stdout",
     "output_type": "stream",
     "text": [
      "It takes 1.30 seconds to finish 0.7854784710901851 Energy calculation\n"
     ]
    },
    {
     "data": {
      "image/png": "[encoded data removed]",
      "text/plain": [
       "<Figure size 640x480 with 1 Axes>"
      ]
     },
     "metadata": {},
     "output_type": "display_data"
    }
   ],
   "source": [
    "tic = time.time()\n",
    "r00_theta_k = get_laue_transmission(kin_grid=kin_grid, \n",
    "                                     normal_grid=normal_grid,\n",
    "                                     h_grid=h_grid,\n",
    "                                     thickness=thickness,\n",
    "                                     chi0=Diamond004['chi0'],\n",
    "                                     chih=Diamond004['chih_sigma'],\n",
    "                                     chihbar=Diamond004['chihbar_sigma'],)\n",
    "r00_theta_t = np.fft.fftshift(np.fft.ifft(np.fft.fftshift(r00_theta_k, axes=0), axis=0), axes=0)\n",
    "toc = time.time()\n",
    "print(\"It takes {:.2f} seconds to finish {} Energy calculation\".format(toc - tic, theta_0))\n",
    "\n",
    "plt.imshow(np.abs(np.square(np.abs(r00_theta_t.T))), \n",
    "           aspect='auto',\n",
    "           cmap='jet',\n",
    "           extent=[axis_info['time_grid'][0],axis_info['time_grid'][1],\n",
    "                   np.rad2deg(angle_lim[0]), np.rad2deg(angle_lim[1]),],\n",
    "           vmin=0,\n",
    "           vmax=0.005,\n",
    "          )\n",
    "plt.show()"
   ]
  },
  {
   "cell_type": "code",
   "execution_count": null,
   "metadata": {},
   "outputs": [],
   "source": []
  }
 ],
 "metadata": {
  "kernelspec": {
   "display_name": "Python 3 (ipykernel)",
   "language": "python",
   "name": "python3"
  },
  "language_info": {
   "codemirror_mode": {
    "name": "ipython",
    "version": 3
   },
   "file_extension": ".py",
   "mimetype": "text/x-python",
   "name": "python",
   "nbconvert_exporter": "python",
   "pygments_lexer": "ipython3",
   "version": "3.8.18"
  }
 },
 "nbformat": 4,
 "nbformat_minor": 4
}
