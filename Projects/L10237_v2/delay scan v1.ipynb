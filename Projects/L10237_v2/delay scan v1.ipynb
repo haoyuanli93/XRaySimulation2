{
 "cells": [
  {
   "cell_type": "code",
   "execution_count": 4,
   "id": "initial_id",
   "metadata": {
    "collapsed": true,
    "ExecuteTime": {
     "end_time": "2024-10-15T18:07:13.605262600Z",
     "start_time": "2024-10-15T18:07:13.570266400Z"
    }
   },
   "outputs": [
    {
     "ename": "ModuleNotFoundError",
     "evalue": "No module named 'tqdm'",
     "output_type": "error",
     "traceback": [
      "\u001B[1;31m---------------------------------------------------------------------------\u001B[0m",
      "\u001B[1;31mModuleNotFoundError\u001B[0m                       Traceback (most recent call last)",
      "Cell \u001B[1;32mIn[4], line 12\u001B[0m\n\u001B[0;32m      9\u001B[0m \u001B[38;5;66;03m#import cv2\u001B[39;00m\n\u001B[0;32m     10\u001B[0m \u001B[38;5;28;01mimport\u001B[39;00m \u001B[38;5;21;01msocket\u001B[39;00m\n\u001B[1;32m---> 12\u001B[0m \u001B[38;5;28;01mfrom\u001B[39;00m \u001B[38;5;21;01mtqdm\u001B[39;00m \u001B[38;5;28;01mimport\u001B[39;00m tqdm\n\u001B[0;32m     14\u001B[0m \u001B[38;5;28;01mimport\u001B[39;00m \u001B[38;5;21;01msys\u001B[39;00m\n\u001B[0;32m     15\u001B[0m \u001B[38;5;28;01mfrom\u001B[39;00m \u001B[38;5;21;01mpathlib\u001B[39;00m \u001B[38;5;28;01mimport\u001B[39;00m Path\n",
      "\u001B[1;31mModuleNotFoundError\u001B[0m: No module named 'tqdm'"
     ]
    }
   ],
   "source": [
    "import numpy as np\n",
    "import sys, os\n",
    "import h5py\n",
    "#import tables    # this is very useful to load h5 files\n",
    "import matplotlib as mpl\n",
    "import matplotlib.pyplot as plt\n",
    "from matplotlib.colors import LogNorm\n",
    "from mpl_toolkits.axes_grid1 import make_axes_locatable\n",
    "#import cv2\n",
    "import socket\n",
    "\n",
    "from tqdm import tqdm\n",
    "\n",
    "import sys\n",
    "from pathlib import Path\n",
    "\n",
    "#mpl.rcParams['figure.dpi'] = 60\n",
    "mpl.rcParams['font.size'] = 14"
   ]
  },
  {
   "cell_type": "code",
   "execution_count": 2,
   "outputs": [
    {
     "ename": "NameError",
     "evalue": "name 'Path' is not defined",
     "output_type": "error",
     "traceback": [
      "\u001B[1;31m---------------------------------------------------------------------------\u001B[0m",
      "\u001B[1;31mNameError\u001B[0m                                 Traceback (most recent call last)",
      "Cell \u001B[1;32mIn[2], line 9\u001B[0m\n\u001B[0;32m      7\u001B[0m \u001B[38;5;66;03m# pick experiment\u001B[39;00m\n\u001B[0;32m      8\u001B[0m exp \u001B[38;5;241m=\u001B[39m \u001B[38;5;124m'\u001B[39m\u001B[38;5;124mxppl1023722\u001B[39m\u001B[38;5;124m'\u001B[39m\n\u001B[1;32m----> 9\u001B[0m p \u001B[38;5;241m=\u001B[39m \u001B[43mPath\u001B[49m(\u001B[38;5;124m'\u001B[39m\u001B[38;5;124m/sdf/data/lcls/ds/\u001B[39m\u001B[38;5;132;01m{}\u001B[39;00m\u001B[38;5;124m/\u001B[39m\u001B[38;5;132;01m{}\u001B[39;00m\u001B[38;5;124m/hdf5/smalldata/\u001B[39m\u001B[38;5;124m'\u001B[39m\u001B[38;5;241m.\u001B[39mformat(exp[:\u001B[38;5;241m3\u001B[39m], exp))\n\u001B[0;32m     10\u001B[0m ipm2_to_uJ \u001B[38;5;241m=\u001B[39m \u001B[38;5;241m0.0012965906190659422\u001B[39m    \u001B[38;5;66;03m# ipm2 to uJ conversion\u001B[39;00m\n\u001B[0;32m     11\u001B[0m ADU \u001B[38;5;241m=\u001B[39m \u001B[38;5;241m8\u001B[39m\n",
      "\u001B[1;31mNameError\u001B[0m: name 'Path' is not defined"
     ]
    }
   ],
   "source": [
    "def plot_box(ax, bc, bw, c='r', label=None, alpha=1):\n",
    "    ax.plot([bc[1]+bw, bc[1]+bw], [bc[0]-bw, bc[0]+bw], color=c, label=label, alpha=alpha)\n",
    "    ax.plot([bc[1]-bw, bc[1]-bw], [bc[0]-bw, bc[0]+bw], color=c, alpha=alpha)\n",
    "    ax.plot([bc[1]-bw, bc[1]+bw], [bc[0]-bw, bc[0]-bw], color=c, alpha=alpha)\n",
    "    ax.plot([bc[1]-bw, bc[1]+bw], [bc[0]+bw, bc[0]+bw], color=c, alpha=alpha)\n",
    "    \n",
    "# pick experiment\n",
    "exp = 'xppl1023722'\n",
    "p = Path('/sdf/data/lcls/ds/{}/{}/hdf5/smalldata/'.format(exp[:3], exp))\n",
    "ipm2_to_uJ = 0.0012965906190659422    # ipm2 to uJ conversion\n",
    "ADU = 8    # pixel readout baseline [eV]"
   ],
   "metadata": {
    "collapsed": false,
    "ExecuteTime": {
     "end_time": "2024-10-15T18:07:03.517289800Z",
     "start_time": "2024-10-15T18:07:03.481368600Z"
    }
   },
   "id": "f4633e3f86eaccea"
  },
  {
   "cell_type": "code",
   "execution_count": null,
   "outputs": [],
   "source": [],
   "metadata": {
    "collapsed": false
   },
   "id": "ea58d9ae91411367"
  }
 ],
 "metadata": {
  "kernelspec": {
   "display_name": "Python 3",
   "language": "python",
   "name": "python3"
  },
  "language_info": {
   "codemirror_mode": {
    "name": "ipython",
    "version": 2
   },
   "file_extension": ".py",
   "mimetype": "text/x-python",
   "name": "python",
   "nbconvert_exporter": "python",
   "pygments_lexer": "ipython2",
   "version": "2.7.6"
  }
 },
 "nbformat": 4,
 "nbformat_minor": 5
}
