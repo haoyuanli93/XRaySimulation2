{
 "cells": [
  {
   "cell_type": "code",
   "execution_count": 3,
   "id": "initial_id",
   "metadata": {
    "collapsed": true,
    "ExecuteTime": {
     "end_time": "2024-07-11T21:13:19.846474Z",
     "start_time": "2024-07-11T21:13:19.063856Z"
    }
   },
   "outputs": [],
   "source": [
    "import numpy as np\n",
    "import matplotlib.pyplot as plt\n",
    "import sys\n",
    "\n",
    "sys.path.append(\"../../../XRaySimulation2\")\n",
    "\n",
    "from XRaySimulation import util"
   ]
  },
  {
   "cell_type": "code",
   "execution_count": 4,
   "outputs": [],
   "source": [
    "def get_bragg_reflectivity_with_phonon(kin_grid,\n",
    "                                       d,\n",
    "                                       h,\n",
    "                                       n,\n",
    "                                       q,\n",
    "                                       omega,\n",
    "                                       p,\n",
    "                                       chi0,\n",
    "                                       chih,\n",
    "                                       chihbar):\n",
    "    # ---------------------------------------------------\n",
    "    # Get the output wave-vector\n",
    "    # ---------------------------------------------------\n",
    "    klen_grid = np.linalg.norm(kin_grid, axis=-1)\n",
    "\n",
    "    # Define commonly used geometric quantities for the calculation\n",
    "    gamma_0 = np.dot(kin_grid, n) / klen_grid\n",
    "    gamma_h = np.dot(kin_grid + h[np.newaxis, :], n) / klen_grid\n",
    "    b = gamma_0 / gamma_h\n",
    "\n",
    "    alpha = (2 * np.dot(kin_grid, h) + np.sum(np.square(h))) / np.square(klen_grid)\n",
    "\n",
    "    # Get surface momentrum transfer momentum tranfer \n",
    "    m_trans = np.multiply(klen_grid, -gamma_h - np.sqrt(gamma_h ** 2 - alpha))\n",
    "\n",
    "    # Update the kout_grid\n",
    "    kout_grid = (kin_grid + h[np.newaxis, :]\n",
    "                 + np.multiply(m_trans[:, np.newaxis], n[np.newaxis, :]))\n",
    "\n",
    "    # -----------------------------------------------------\n",
    "    # Perfect crystal\n",
    "    # ------------------------------------------------------\n",
    "    y = 0.5 / np.sqrt(np.abs(b, dtype=np.complex128) * chih * chihbar)\n",
    "    y *= b * alpha + chi0 * (1 - b)\n",
    "    y1 = -y + np.sqrt(y ** 2 - 1)\n",
    "    y2 = -y - np.sqrt(y ** 2 - 1)\n",
    "\n",
    "    scriptG = np.sqrt(np.abs(b) * chih * chihbar) / chihbar\n",
    "    scriptA = klen_grid * d * np.sqrt(chihbar * chih / gamma_0 / gamma_h)\n",
    "\n",
    "    eta_d_1 = chi0 * klen_grid * d / 2. / gamma_0 + scriptA / 2. * y1\n",
    "    eta_d_2 = chi0 * klen_grid * d / 2. / gamma_0 + scriptA / 2. * y2\n",
    "\n",
    "    capR1 = scriptG * y1\n",
    "    capR2 = scriptG * y2\n",
    "\n",
    "    phase_term = np.exp(1.j * (eta_d_1 - eta_d_2))\n",
    "    R0H = capR1 * capR2 * (1 - phase_term)\n",
    "    R0H /= (capR2 - capR1 * phase_term)\n",
    "\n",
    "    R00 = (capR2 - capR1) / (capR2 - capR1 * phase_term)\n",
    "    R00 *= np.exp(1.j * eta_d_1)\n",
    "\n",
    "    # -----------------------------------------------------\n",
    "    # phonon contribution\n",
    "    # ------------------------------------------------------\n",
    "    delta_chih = 1.j * chih * np.dot(h, p)\n",
    "    delta_chihbar = 1.j * chihbar * np.dot(h, p)\n",
    "    beta_h = alpha - chi0 / 2.\n",
    "\n",
    "    capA0 = 2. / klen_grid * np.dot(kin_grid / klen_grid[:, np.newaxis], q)\n",
    "    capA0 -= 2 * omega / util.c / klen_grid\n",
    "\n",
    "    capAh = 2. / klen_grid * np.dot((kin_grid + h[np.newaxis, :]) / klen_grid[:, np.newaxis], q)\n",
    "    capAh -= 2 * omega / util.c / klen_grid\n",
    "\n",
    "    d_plus = 0.5 * (chih * delta_chihbar * R0H + capA0 * delta_chih * R00)\n",
    "    d_plus /= (capA0 * (capAh + 2 * beta_h) - chih * chihbar)\n",
    "\n",
    "    d_minus = 0.5 * (chih * delta_chihbar * R0H - capA0 * delta_chih * R00)\n",
    "    d_minus /= (-capA0 * (-capAh + 2 * beta_h) - chih * chihbar)\n",
    "\n",
    "    return R0H, R00, d_plus, d_minus\n",
    "    \n"
   ],
   "metadata": {
    "collapsed": false,
    "ExecuteTime": {
     "end_time": "2024-07-11T21:30:07.253953100Z",
     "start_time": "2024-07-11T21:30:07.241275400Z"
    }
   },
   "id": "9ae419f6a2763088"
  },
  {
   "cell_type": "code",
   "execution_count": 5,
   "outputs": [],
   "source": [
    "# I feel confused about this implementation since it seems that I need to rock the crystal rather than the X-ray energy.\n",
    "# therefore I cannot really test this algorithm\n",
    "# instead, I need to get a new implementation that really change the crystal"
   ],
   "metadata": {
    "collapsed": false,
    "ExecuteTime": {
     "end_time": "2024-07-11T21:34:06.365637800Z",
     "start_time": "2024-07-11T21:34:06.353568200Z"
    }
   },
   "id": "944d3b3d15ef43f7"
  },
  {
   "cell_type": "code",
   "execution_count": null,
   "outputs": [],
   "source": [],
   "metadata": {
    "collapsed": false
   },
   "id": "a7f96ec323de377b"
  }
 ],
 "metadata": {
  "kernelspec": {
   "display_name": "Python 3",
   "language": "python",
   "name": "python3"
  },
  "language_info": {
   "codemirror_mode": {
    "name": "ipython",
    "version": 2
   },
   "file_extension": ".py",
   "mimetype": "text/x-python",
   "name": "python",
   "nbconvert_exporter": "python",
   "pygments_lexer": "ipython2",
   "version": "2.7.6"
  }
 },
 "nbformat": 4,
 "nbformat_minor": 5
}
