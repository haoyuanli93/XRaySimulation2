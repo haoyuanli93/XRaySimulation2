{
 "cells": [
  {
   "cell_type": "code",
   "execution_count": 1,
   "outputs": [],
   "source": [
    "import numpy as np\n",
    "import matplotlib.pyplot as plt\n",
    "from matplotlib import colormaps"
   ],
   "metadata": {
    "collapsed": false,
    "ExecuteTime": {
     "end_time": "2024-08-09T19:27:50.186793500Z",
     "start_time": "2024-08-09T19:27:48.943743500Z"
    }
   },
   "id": "1763b4c047f22c1c"
  },
  {
   "cell_type": "code",
   "execution_count": 2,
   "outputs": [],
   "source": [
    "def get_rotmat_around_axis(angleRadian, axis):\n",
    "    \"\"\"\n",
    "    Get a rotation matrix that rotate a vector\n",
    "    with respect to an axis by some angle in radian.\n",
    "\n",
    "    According to the right hand rule,\n",
    "    if one aligns the thumb with the positive direction of the axis,\n",
    "    then a positive angle is direction of your four fingers with\n",
    "    a hollow fist.\n",
    "\n",
    "    :param angleRadian:\n",
    "    :param axis:\n",
    "    :return:\n",
    "    \"\"\"\n",
    "\n",
    "    # Check the axis length and normalize it\n",
    "    if np.linalg.norm(axis) < 1e-6:\n",
    "        print(\"The axis has to be a vector of unit length.\")\n",
    "        return False\n",
    "    axis /= np.linalg.norm(axis)\n",
    "\n",
    "    # Step 1: get a vector that is not parallel with the axis\n",
    "    new_axis = np.zeros(3, dtype=np.float64)\n",
    "    new_axis[0] = 1.0\n",
    "\n",
    "    if np.linalg.norm(np.cross(new_axis, axis)) <= 1e-8:\n",
    "        # If this relative is valid, then axis[0] ~ 1 while  axis[1] = axis[2] = 0\n",
    "        new_axis[0] = 0.0\n",
    "        new_axis[1] = 1.0\n",
    "\n",
    "    # print(newAxis)\n",
    "\n",
    "    # Step 2: remove the projection of the newAxis on the axis direction\n",
    "    new_axis -= axis * np.dot(axis, new_axis)\n",
    "    new_axis /= np.linalg.norm(new_axis)\n",
    "\n",
    "    # print(newAxis)\n",
    "\n",
    "    # Step 2: get the other vector though cross project\n",
    "    new_axis2 = np.cross(axis, new_axis)\n",
    "\n",
    "    # Construct the matrix\n",
    "    rotMat = np.zeros((3, 3))\n",
    "    rotMat += np.outer(axis, axis) + np.cos(angleRadian) * (np.outer(new_axis, new_axis) + np.outer(new_axis2, new_axis2))\n",
    "    rotMat += np.sin(angleRadian) * (np.outer(new_axis2, new_axis) - np.outer(new_axis, new_axis2))\n",
    "\n",
    "    return rotMat\n"
   ],
   "metadata": {
    "collapsed": false,
    "ExecuteTime": {
     "end_time": "2024-08-09T19:27:50.189027600Z",
     "start_time": "2024-08-09T19:27:50.180594200Z"
    }
   },
   "id": "7c08984e135723d9"
  },
  {
   "cell_type": "code",
   "execution_count": 10,
   "outputs": [],
   "source": [
    "Ec = 9.8  # keV\n",
    "wavelength = 1.26514\n",
    "kLen = np.pi * 2 / wavelength\n",
    "\n",
    "# Get the rotation rotation matrix\n",
    "angle_tmp = np.deg2rad(10)\n",
    "rot_mat = get_rotmat_around_axis(angleRadian=np.deg2rad(3.49 * 2),\n",
    "                                 axis=np.array([0, np.sin(angle_tmp), -np.cos(angle_tmp)]))\n",
    "\n",
    "# Get the wavevector right in front of the mirror after the mirror 1 and the silicon 111\n",
    "angle = np.deg2rad(2 * 11.639 - 0.2)\n",
    "kVec = np.array([ 0, - np.sin(angle), np.cos(angle), ]) * kLen  # (x, y, z) in the xpp coordinate\n",
    "kVec = np.dot(rot_mat, kVec)  # Add the rotation effect due to the mirror\n",
    "\n",
    "# Get the reciprocal lattice of STO 220\n",
    "gVec = np.array([1, 1, 0]) / np.sqrt(2) * np.pi * 2 / 1.3806\n",
    "\n",
    "# Rotate the crystal to get a circle\n",
    "angle_num = 20000 #// 50\n",
    "angle_list = np.linspace(start= np.deg2rad(-1.5 - 2.5) , stop=np.deg2rad(-1.5 - 0.8), num=angle_num)\n",
    "#angle_list = np.linspace(start= -np.deg2rad(45) , stop=np.deg2rad(90), num=angle_num)\n",
    "\n",
    "tilt_angle = -np.deg2rad(11.5)\n",
    "tilt_mat = np.array([[np.cos(tilt_angle), 0, -np.sin(tilt_angle)],\n",
    "                     [0, 1, 0],\n",
    "                     [np.sin(tilt_angle), 0, np.cos(tilt_angle)],])\n",
    "\n",
    "gVec_list = np.zeros((angle_num, 3))\n",
    "for idx in range(angle_num):\n",
    "    angle_rot = angle_list[idx]\n",
    "    rot_mat = np.array([[1, 0, 0],\n",
    "                        [0, np.cos(angle_rot), -np.sin(angle_rot)],\n",
    "                        [0, np.sin(angle_rot), np.cos(angle_rot)],])\n",
    "\n",
    "    gVec_list[idx, :] = np.dot(tilt_mat, np.dot(rot_mat, gVec))\n",
    "    \n",
    "# Get the transient grating wavevector\n",
    "tVec = np.array([1,0,0]) * kLen * np.sin(np.deg2rad(0.1567 * 2 - 7e-3)) * 2"
   ],
   "metadata": {
    "collapsed": false,
    "ExecuteTime": {
     "end_time": "2024-08-09T20:13:08.159227100Z",
     "start_time": "2024-08-09T20:13:07.937639300Z"
    }
   },
   "id": "86df227e9997d736"
  },
  {
   "cell_type": "code",
   "execution_count": 11,
   "outputs": [
    {
     "name": "stdout",
     "output_type": "stream",
     "text": [
      "The Bragg angle is at -3.0555 deg\n",
      "The Bragg angle with TG is at -3.7113 deg\n",
      "The angular difference is 0.6558 deg\n",
      "The Bragg angle with TG is at -2.4119 deg\n",
      "The angular difference is -0.6437 deg\n"
     ]
    }
   ],
   "source": [
    "kout = gVec_list + kVec[np.newaxis, :]\n",
    "kout_len = np.linalg.norm(kout, axis=-1)\n",
    "kout_len_diff = kout_len - kLen\n",
    "\n",
    "kout_tg = gVec_list + kVec[np.newaxis, :] + tVec[np.newaxis, :]\n",
    "kout_len_tg = np.linalg.norm(kout_tg, axis=-1)\n",
    "kout_len_diff_tg = kout_len_tg - kLen\n",
    "\n",
    "kout_tg1 = gVec_list + kVec[np.newaxis, :] - tVec[np.newaxis, :]\n",
    "kout_len_tg1 = np.linalg.norm(kout_tg1, axis=-1)\n",
    "kout_len_diff_tg1 = kout_len_tg1 - kLen\n",
    "\n",
    "bragg_idx = np.argmin(np.abs(kout_len_diff))\n",
    "tg_idx = np.argmin(np.abs(kout_len_diff_tg))\n",
    "tg1_idx = np.argmin(np.abs(kout_len_diff_tg1))\n",
    "\n",
    "bragg_angle = angle_list[bragg_idx]\n",
    "bragg_angle_tg = angle_list[tg_idx]\n",
    "bragg_angle_tg1 = angle_list[tg1_idx]\n",
    "\n",
    "print(\"The Bragg angle is at {:.4f} deg\".format(np.rad2deg(bragg_angle)))\n",
    "#print(kout[np.argmin(np.abs(kout_len_diff))] / kout_tg[np.argmin(np.abs(kout_len_diff))][-1] * 115e3)\n",
    "\n",
    "print(\"The Bragg angle with TG is at {:.4f} deg\".format(np.rad2deg(bragg_angle_tg)))\n",
    "print(\"The angular difference is {:.4f} deg\".format(np.rad2deg(bragg_angle) - np.rad2deg(bragg_angle_tg)))\n",
    "#print(kout_tg[np.argmin(np.abs(kout_len_diff_tg))] / kout_tg[np.argmin(np.abs(kout_len_diff_tg))][-1]* 115e3)\n",
    "\n",
    "print(\"The Bragg angle with TG is at {:.4f} deg\".format(np.rad2deg(bragg_angle_tg1)))\n",
    "print(\"The angular difference is {:.4f} deg\".format(np.rad2deg(bragg_angle) - np.rad2deg(bragg_angle_tg1)))\n",
    "#print(kout_tg1[np.argmin(np.abs(kout_len_diff_tg1))] / kout_tg1[np.argmin(np.abs(kout_len_diff_tg1))][-1]* 115e3)"
   ],
   "metadata": {
    "collapsed": false,
    "ExecuteTime": {
     "end_time": "2024-08-09T20:13:08.211267800Z",
     "start_time": "2024-08-09T20:13:08.162642200Z"
    }
   },
   "id": "618e41f4e503df2b"
  },
  {
   "cell_type": "code",
   "execution_count": 12,
   "outputs": [
    {
     "data": {
      "text/plain": "array([ 3.11927867,  3.21350625, -0.80967381])"
     },
     "execution_count": 12,
     "metadata": {},
     "output_type": "execute_result"
    }
   ],
   "source": [
    "gVec_list[bragg_idx]"
   ],
   "metadata": {
    "collapsed": false,
    "ExecuteTime": {
     "end_time": "2024-08-09T20:13:08.302406300Z",
     "start_time": "2024-08-09T20:13:08.290849800Z"
    }
   },
   "id": "1fa3ccf08a73a56e"
  },
  {
   "cell_type": "code",
   "execution_count": 13,
   "outputs": [],
   "source": [
    "kout_bragg = kout[bragg_idx]\n",
    "kout_vec_tg = kout_tg[tg_idx]\n",
    "kout_vec_tg1 = kout_tg1[tg1_idx]"
   ],
   "metadata": {
    "collapsed": false,
    "ExecuteTime": {
     "end_time": "2024-08-09T20:13:09.948718500Z",
     "start_time": "2024-08-09T20:13:09.930241200Z"
    }
   },
   "id": "98833fe592d11b15"
  },
  {
   "cell_type": "code",
   "execution_count": 14,
   "outputs": [
    {
     "data": {
      "text/plain": "0.05830442898854229"
     },
     "execution_count": 14,
     "metadata": {},
     "output_type": "execute_result"
    }
   ],
   "source": [
    "np.linalg.norm(kout_vec_tg - kout_bragg)"
   ],
   "metadata": {
    "collapsed": false,
    "ExecuteTime": {
     "end_time": "2024-08-09T20:13:10.356705400Z",
     "start_time": "2024-08-09T20:13:10.348221700Z"
    }
   },
   "id": "c964469f35a34e07"
  },
  {
   "cell_type": "code",
   "execution_count": 16,
   "outputs": [
    {
     "data": {
      "text/plain": "0.05799611368403418"
     },
     "execution_count": 16,
     "metadata": {},
     "output_type": "execute_result"
    }
   ],
   "source": [
    "np.linalg.norm(kout_vec_tg1 - kout_bragg)"
   ],
   "metadata": {
    "collapsed": false,
    "ExecuteTime": {
     "end_time": "2024-08-09T20:13:15.847866900Z",
     "start_time": "2024-08-09T20:13:15.820813100Z"
    }
   },
   "id": "39fc76d5b21ead93"
  },
  {
   "cell_type": "code",
   "execution_count": 119,
   "outputs": [],
   "source": [
    "pixel_res_A = 75e-6 / 13e-2 * np.pi * 2 / wavelength"
   ],
   "metadata": {
    "collapsed": false,
    "ExecuteTime": {
     "end_time": "2024-08-09T18:32:03.642731100Z",
     "start_time": "2024-08-09T18:32:03.629734400Z"
    }
   },
   "id": "6794775d32da7ae1"
  },
  {
   "cell_type": "code",
   "execution_count": 122,
   "outputs": [
    {
     "name": "stdout",
     "output_type": "stream",
     "text": [
      "0.0004560152053710079\n",
      "[0.00845387 0.         0.        ]\n"
     ]
    }
   ],
   "source": [
    "print(pixel_res_A / np.pi / 2)\n",
    "print(tVec / np.pi / 2)"
   ],
   "metadata": {
    "collapsed": false,
    "ExecuteTime": {
     "end_time": "2024-08-09T18:33:14.860627100Z",
     "start_time": "2024-08-09T18:33:14.842545600Z"
    }
   },
   "id": "dbf52718f56ae2d8"
  },
  {
   "cell_type": "code",
   "execution_count": 40,
   "outputs": [
    {
     "data": {
      "text/plain": "<Figure size 1000x500 with 1 Axes>",
      "image/png": "[encoded data removed]"
     },
     "metadata": {},
     "output_type": "display_data"
    }
   ],
   "source": [
    "fig, ax = plt.subplots(ncols=1,nrows=1)\n",
    "cmap = colormaps['summer']\n",
    "\n",
    "fig.set_figheight(5)\n",
    "fig.set_figwidth(10)\n",
    "\n",
    "ax.plot(np.rad2deg(angle_list), kout_len_diff_tg)\n",
    "ax.plot(np.rad2deg(angle_list), np.abs(kout_len_diff_tg))\n",
    "ax.plot(np.rad2deg(angle_list), np.abs(kout_len_diff_tg1))\n",
    "\n",
    "plt.title('|K + G| - |K|')\n",
    "plt.ylabel(\"A^-1\")\n",
    "plt.xlabel('angle deg')\n",
    "#plt.legend()\n",
    "plt.show()"
   ],
   "metadata": {
    "collapsed": false,
    "ExecuteTime": {
     "end_time": "2024-08-09T18:11:48.358980900Z",
     "start_time": "2024-08-09T18:11:48.193822300Z"
    }
   },
   "id": "724c7bc2ea6c6b0b"
  },
  {
   "cell_type": "code",
   "execution_count": null,
   "outputs": [],
   "source": [],
   "metadata": {
    "collapsed": false
   },
   "id": "86439558958f80eb"
  }
 ],
 "metadata": {
  "kernelspec": {
   "display_name": "Python 3",
   "language": "python",
   "name": "python3"
  },
  "language_info": {
   "codemirror_mode": {
    "name": "ipython",
    "version": 2
   },
   "file_extension": ".py",
   "mimetype": "text/x-python",
   "name": "python",
   "nbconvert_exporter": "python",
   "pygments_lexer": "ipython2",
   "version": "2.7.6"
  }
 },
 "nbformat": 4,
 "nbformat_minor": 5
}
