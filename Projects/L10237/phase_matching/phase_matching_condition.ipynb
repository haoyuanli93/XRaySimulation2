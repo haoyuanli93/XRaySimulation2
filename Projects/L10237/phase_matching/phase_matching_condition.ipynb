{
 "cells": [
  {
   "cell_type": "code",
   "execution_count": 1,
   "id": "initial_id",
   "metadata": {
    "ExecuteTime": {
     "end_time": "2024-08-27T06:02:42.560943900Z",
     "start_time": "2024-08-27T06:02:40.604842800Z"
    },
    "collapsed": true,
    "jupyter": {
     "outputs_hidden": true
    }
   },
   "outputs": [],
   "source": [
    "import numpy as np\n",
    "import matplotlib.pyplot as plt\n",
    "import matplotlib\n",
    "from matplotlib import colormaps\n",
    "import sys\n",
    "\n",
    "sys.path.append(\"../../../../XRaySimulation\")\n",
    "from XRaySimulation import util, RockingCurve, Pulse\n",
    "\n",
    "matplotlib.rcParams['font.family'] = ['serif']\n",
    "matplotlib.rcParams['font.size'] = 12"
   ]
  },
  {
   "cell_type": "code",
   "execution_count": 2,
   "id": "bbaec59870c1c03e",
   "metadata": {
    "ExecuteTime": {
     "end_time": "2024-08-27T06:02:42.576358Z",
     "start_time": "2024-08-27T06:02:42.567142Z"
    },
    "collapsed": false,
    "jupyter": {
     "outputs_hidden": false
    }
   },
   "outputs": [
    {
     "data": {
      "text/plain": [
       "0.7880628113594065"
      ]
     },
     "execution_count": 2,
     "metadata": {},
     "output_type": "execute_result"
    }
   ],
   "source": [
    "np.rad2deg(np.arctan((300 * 200e-6) / 4.362))"
   ]
  },
  {
   "cell_type": "code",
   "execution_count": 3,
   "id": "43e12192597cc4d6",
   "metadata": {
    "ExecuteTime": {
     "end_time": "2024-08-27T06:02:42.625465400Z",
     "start_time": "2024-08-27T06:02:42.584595800Z"
    },
    "collapsed": false,
    "jupyter": {
     "outputs_hidden": false
    }
   },
   "outputs": [],
   "source": [
    "def get_rotmat_around_axis(angleRadian, axis):\n",
    "    \"\"\"\n",
    "    Get a rotation matrix that rotate a vector\n",
    "    with respect to an axis by some angle in radian.\n",
    "\n",
    "    According to the right hand rule,\n",
    "    if one aligns the thumb with the positive direction of the axis,\n",
    "    then a positive angle is direction of your four fingers with\n",
    "    a hollow fist.\n",
    "\n",
    "    :param angleRadian:\n",
    "    :param axis:\n",
    "    :return:\n",
    "    \"\"\"\n",
    "\n",
    "    # Check the axis length and normalize it\n",
    "    if np.linalg.norm(axis) < 1e-6:\n",
    "        print(\"The axis has to be a vector of unit length.\")\n",
    "        return False\n",
    "    axis /= np.linalg.norm(axis)\n",
    "\n",
    "    # Step 1: get a vector that is not parallel with the axis\n",
    "    new_axis = np.zeros(3, dtype=np.float64)\n",
    "    new_axis[0] = 1.0\n",
    "\n",
    "    if np.linalg.norm(np.cross(new_axis, axis)) <= 1e-8:\n",
    "        # If this relative is valid, then axis[0] ~ 1 while  axis[1] = axis[2] = 0\n",
    "        new_axis[0] = 0.0\n",
    "        new_axis[1] = 1.0\n",
    "\n",
    "    # print(newAxis)\n",
    "\n",
    "    # Step 2: remove the projection of the newAxis on the axis direction\n",
    "    new_axis -= axis * np.dot(axis, new_axis)\n",
    "    new_axis /= np.linalg.norm(new_axis)\n",
    "\n",
    "    # print(newAxis)\n",
    "\n",
    "    # Step 2: get the other vector though cross project\n",
    "    new_axis2 = np.cross(axis, new_axis)\n",
    "\n",
    "    # Construct the matrix\n",
    "    rotMat = np.zeros((3, 3))\n",
    "    rotMat += np.outer(axis, axis) + np.cos(angleRadian) * (\n",
    "            np.outer(new_axis, new_axis) + np.outer(new_axis2, new_axis2))\n",
    "    rotMat += np.sin(angleRadian) * (np.outer(new_axis2, new_axis) - np.outer(new_axis, new_axis2))\n",
    "\n",
    "    return rotMat\n"
   ]
  },
  {
   "cell_type": "code",
   "execution_count": 4,
   "id": "4458e15014140ebc",
   "metadata": {
    "ExecuteTime": {
     "end_time": "2024-08-27T06:02:42.739832200Z",
     "start_time": "2024-08-27T06:02:42.590370Z"
    },
    "collapsed": false,
    "jupyter": {
     "outputs_hidden": false
    }
   },
   "outputs": [],
   "source": [
    "kVec = np.array([-0.11689482, -1.97294018, 4.55617549])\n",
    "kLen = np.linalg.norm(kVec)\n",
    "\n",
    "# Get the reciprocal lattice of STO 220\n",
    "gVec = np.array([1, 1, 0]) / np.sqrt(2) * np.pi * 2 / 1.3806\n",
    "\n",
    "# Rotate the crystal to get a circle\n",
    "angle_num = 10000\n",
    "angle_list = np.linspace(start=np.deg2rad(-2.9004 - 1), stop=np.deg2rad(-2.9004 + 1), num=angle_num)\n",
    "\n",
    "tilt_angle = np.deg2rad(11.5)\n",
    "tilt_mat = np.array([[np.cos(tilt_angle), 0, np.sin(tilt_angle)],\n",
    "                     [0, 1, 0],\n",
    "                     [-np.sin(tilt_angle), 0, np.cos(tilt_angle)], ])\n",
    "\n",
    "gVec_list = np.zeros((angle_num, 3))\n",
    "for idx in range(angle_num):\n",
    "    angle_rot = angle_list[idx]\n",
    "    rot_mat = np.array([[1, 0, 0],\n",
    "                        [0, np.cos(angle_rot), -np.sin(angle_rot)],\n",
    "                        [0, np.sin(angle_rot), np.cos(angle_rot)], ])\n",
    "\n",
    "    gVec_list[idx, :] = np.dot(tilt_mat, np.dot(rot_mat, gVec))\n",
    "\n",
    "# Get the transient grating wavevector\n",
    "tVec = np.array([1, 0, 0]) * kLen * np.sin(np.deg2rad(0.1567 * 2 - 7e-3)) * 2"
   ]
  },
  {
   "cell_type": "code",
   "execution_count": null,
   "id": "65a6161df048826b",
   "metadata": {
    "collapsed": false,
    "jupyter": {
     "outputs_hidden": false
    }
   },
   "outputs": [],
   "source": []
  },
  {
   "cell_type": "code",
   "execution_count": 17,
   "id": "30f75e1fab2057d5",
   "metadata": {
    "ExecuteTime": {
     "end_time": "2024-08-27T14:31:59.448886800Z",
     "start_time": "2024-08-27T14:31:59.403851900Z"
    },
    "collapsed": false,
    "jupyter": {
     "outputs_hidden": false
    }
   },
   "outputs": [
    {
     "name": "stdout",
     "output_type": "stream",
     "text": [
      "18.12190203674962\n"
     ]
    }
   ],
   "source": [
    "tVec = np.array([1, 0, 0]) * kLen * np.sin(np.deg2rad(0.1 * 2)) * 2\n",
    "print(np.pi * 2 / tVec[0] / 10)"
   ]
  },
  {
   "cell_type": "code",
   "execution_count": 6,
   "id": "3423ad10e13a4ab3",
   "metadata": {
    "ExecuteTime": {
     "end_time": "2024-08-27T10:49:15.814791100Z",
     "start_time": "2024-08-27T10:49:15.769938100Z"
    },
    "collapsed": false,
    "jupyter": {
     "outputs_hidden": false
    }
   },
   "outputs": [
    {
     "data": {
      "text/plain": [
       "0.393"
      ]
     },
     "execution_count": 6,
     "metadata": {},
     "output_type": "execute_result"
    }
   ],
   "source": [
    "0.2 * 2 - 7e-3"
   ]
  },
  {
   "cell_type": "code",
   "execution_count": 76,
   "id": "d4d787b12c56565d",
   "metadata": {
    "ExecuteTime": {
     "end_time": "2024-08-25T13:23:44.076262100Z",
     "start_time": "2024-08-25T13:23:44.060809800Z"
    },
    "collapsed": false,
    "jupyter": {
     "outputs_hidden": false
    }
   },
   "outputs": [
    {
     "name": "stdout",
     "output_type": "stream",
     "text": [
      "The Bragg angle is at -2.9009 deg\n",
      "The Bragg angle with TG is at -3.5622 deg\n",
      "The angular difference is 0.6613 deg\n",
      "The Bragg angle with TG is at -2.2516 deg\n",
      "The angular difference is -0.6493 deg\n"
     ]
    }
   ],
   "source": [
    "# Get the geometric Bragg angle position\n",
    "kout = gVec_list + kVec[np.newaxis, :]\n",
    "kout_len = np.linalg.norm(kout, axis=-1)\n",
    "kout_len_diff = kout_len - kLen\n",
    "bragg_idx = np.argmin(np.abs(kout_len_diff))\n",
    "\n",
    "kout_tg = gVec_list + kVec[np.newaxis, :] + tVec[np.newaxis, :]\n",
    "kout_len_tg = np.linalg.norm(kout_tg, axis=-1)\n",
    "kout_len_diff_tg = kout_len_tg - kLen\n",
    "tg_idx = np.argmin(np.abs(kout_len_diff_tg))\n",
    "\n",
    "kout_tg1 = gVec_list + kVec[np.newaxis, :] - tVec[np.newaxis, :]\n",
    "kout_len_tg1 = np.linalg.norm(kout_tg1, axis=-1)\n",
    "kout_len_diff_tg1 = kout_len_tg1 - kLen\n",
    "tg1_idx = np.argmin(np.abs(kout_len_diff_tg1))\n",
    "\n",
    "bragg_angle = angle_list[bragg_idx]\n",
    "tg_angle = angle_list[tg_idx]\n",
    "tg1_angle = angle_list[tg1_idx]\n",
    "\n",
    "print(\"The Bragg angle is at {:.4f} deg\".format(np.rad2deg(bragg_angle)))\n",
    "#print(kout[bragg_idx] / kout[bragg_idx][-1])\n",
    "\n",
    "print(\"The Bragg angle with TG is at {:.4f} deg\".format(np.rad2deg(tg_angle)))\n",
    "print(\"The angular difference is {:.4f} deg\".format(np.rad2deg(bragg_angle) - np.rad2deg(tg_angle)))\n",
    "#print(kout_tg[tg_idx] / kout_tg[tg_idx][-1])\n",
    "\n",
    "print(\"The Bragg angle with TG is at {:.4f} deg\".format(np.rad2deg(tg1_angle)))\n",
    "print(\"The angular difference is {:.4f} deg\".format(np.rad2deg(bragg_angle) - np.rad2deg(tg1_angle)))\n",
    "#print(kout_tg1[tg1_idx] / kout_tg1[tg1_idx][-1])"
   ]
  },
  {
   "cell_type": "code",
   "execution_count": 77,
   "id": "ca318558c591058b",
   "metadata": {
    "ExecuteTime": {
     "end_time": "2024-08-25T13:23:45.861202800Z",
     "start_time": "2024-08-25T13:23:44.927150900Z"
    },
    "collapsed": false,
    "jupyter": {
     "outputs_hidden": false
    }
   },
   "outputs": [
    {
     "data": {
      "image/png": "[encoded data removed]",
      "text/plain": [
       "<Figure size 500x500 with 1 Axes>"
      ]
     },
     "metadata": {},
     "output_type": "display_data"
    }
   ],
   "source": [
    "fig, ax = plt.subplots(ncols=1, nrows=1)\n",
    "cmap = colormaps['summer']\n",
    "\n",
    "fig.set_figheight(5)\n",
    "fig.set_figwidth(5)\n",
    "\n",
    "ax.plot(np.rad2deg(angle_list - bragg_angle), kout_len_diff, c='k', label=\"Bragg\")\n",
    "ax.plot(np.rad2deg(angle_list - bragg_angle), kout_len_diff_tg, c='b', label='TG (-)')\n",
    "ax.plot(np.rad2deg(angle_list - bragg_angle), kout_len_diff_tg1, c='r', label='TG (+)')\n",
    "ax.axhline(y=0, linestyle='--', c='k')\n",
    "ax.axvline(x=np.rad2deg(bragg_angle - bragg_angle), linestyle='--', c='k')\n",
    "ax.axvline(x=np.rad2deg(tg_angle - bragg_angle), linestyle='--', c='k')\n",
    "ax.axvline(x=np.rad2deg(tg1_angle - bragg_angle), linestyle='--', c='k')\n",
    "ax.text(x=np.rad2deg(bragg_angle - bragg_angle) + 0.05,\n",
    "        y=-0.07,\n",
    "        s='{:.3f}$\\degree$'.format(np.rad2deg(bragg_angle - bragg_angle)), )\n",
    "ax.text(x=np.rad2deg(tg_angle - bragg_angle) + 0.05,\n",
    "        y=-0.07,\n",
    "        s='{:.3f}$\\degree$'.format(np.rad2deg(tg_angle - bragg_angle)), )\n",
    "ax.text(x=np.rad2deg(tg1_angle - bragg_angle) + 0.05,\n",
    "        y=-0.07,\n",
    "        s='{:.3f}$\\degree$'.format(np.rad2deg(tg1_angle - bragg_angle)), )\n",
    "\n",
    "ax.set_ylabel(\"$\\Delta$ ($\\AA^{-1}$)\")\n",
    "ax.set_xlabel(r'$\\theta - \\theta_{Bragg}$ (deg)')\n",
    "plt.legend()\n",
    "plt.savefig(\"./phase_matching_calculation.png\", dpi=300, bbox_inches='tight')\n",
    "plt.show()"
   ]
  },
  {
   "cell_type": "code",
   "execution_count": 79,
   "id": "708c476534e8103f",
   "metadata": {
    "ExecuteTime": {
     "end_time": "2024-08-25T13:56:22.383249500Z",
     "start_time": "2024-08-25T13:56:22.334136400Z"
    },
    "collapsed": false,
    "jupyter": {
     "outputs_hidden": false
    }
   },
   "outputs": [
    {
     "data": {
      "text/plain": [
       "array([-0.11689482, -1.97294018,  4.55617549])"
      ]
     },
     "execution_count": 79,
     "metadata": {},
     "output_type": "execute_result"
    }
   ],
   "source": [
    "kVec"
   ]
  },
  {
   "cell_type": "code",
   "execution_count": 80,
   "id": "e0d07a02bde0d684",
   "metadata": {
    "ExecuteTime": {
     "end_time": "2024-08-25T14:15:23.250095600Z",
     "start_time": "2024-08-25T14:15:23.234098700Z"
    },
    "collapsed": false,
    "jupyter": {
     "outputs_hidden": false
    }
   },
   "outputs": [
    {
     "data": {
      "text/plain": [
       "0.3064"
      ]
     },
     "execution_count": 80,
     "metadata": {},
     "output_type": "execute_result"
    }
   ],
   "source": [
    "0.1567 * 2 - 7e-3"
   ]
  },
  {
   "cell_type": "code",
   "execution_count": null,
   "id": "42200e91acdf9d35",
   "metadata": {
    "collapsed": false,
    "jupyter": {
     "outputs_hidden": false
    }
   },
   "outputs": [],
   "source": []
  }
 ],
 "metadata": {
  "kernelspec": {
   "display_name": "Python 3 (ipykernel)",
   "language": "python",
   "name": "python3"
  },
  "language_info": {
   "codemirror_mode": {
    "name": "ipython",
    "version": 3
   },
   "file_extension": ".py",
   "mimetype": "text/x-python",
   "name": "python",
   "nbconvert_exporter": "python",
   "pygments_lexer": "ipython3",
   "version": "3.8.18"
  }
 },
 "nbformat": 4,
 "nbformat_minor": 5
}
