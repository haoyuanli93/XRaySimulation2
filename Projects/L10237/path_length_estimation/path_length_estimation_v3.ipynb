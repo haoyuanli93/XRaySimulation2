{
 "cells": [
  {
   "cell_type": "code",
   "execution_count": 34,
   "id": "initial_id",
   "metadata": {
    "collapsed": true,
    "ExecuteTime": {
     "end_time": "2024-08-29T07:09:47.520332800Z",
     "start_time": "2024-08-29T07:09:47.498337900Z"
    }
   },
   "outputs": [],
   "source": [
    "import numpy as np\n",
    "import matplotlib.pyplot as plt\n",
    "import sys\n",
    "\n",
    "sys.path.append(\"../../../../XRaySimulation\")\n",
    "from XRaySimulation import util, RockingCurve, Pulse\n",
    "\n",
    "import matplotlib   \n",
    "matplotlib.rcParams['font.family'] = ['serif']\n",
    "matplotlib.rcParams['font.size'] = 12"
   ]
  },
  {
   "cell_type": "code",
   "execution_count": 35,
   "outputs": [],
   "source": [
    "l0 = 2e6\n",
    "\n",
    "theta2_c = np.deg2rad(0.15)\n",
    "theta2_list = theta2_c + np.deg2rad(np.linspace(start=-0.01, stop=0.25, num=1000))\n",
    "\n",
    "d2_c = 0.\n",
    "d2_list = d2_c + np.linspace(start=-1, stop=1, num=1000)\n",
    "\n",
    "# Calculate the theta 1\n",
    "wave_length = np.pi * 2 / util.kev_to_wavevec_length(8.048)\n",
    "\n",
    "theta_1 = np.arctan(wave_length / 0.5)  # The spatial period of the grating is 1um\n",
    "theta_3 = 2 * theta2_list - theta_1"
   ],
   "metadata": {
    "collapsed": false,
    "ExecuteTime": {
     "end_time": "2024-08-29T07:09:48.173705900Z",
     "start_time": "2024-08-29T07:09:48.151708200Z"
    }
   },
   "id": "b8bf0fdeb80eaa86"
  },
  {
   "cell_type": "code",
   "execution_count": 36,
   "outputs": [],
   "source": [
    "l_tot = (np.sin(theta_1) + np.sin(theta_3)) * l0\n",
    "l_tot = l_tot[:, np.newaxis] + d2_list[np.newaxis, :] * (np.cos(theta_3)[:, np.newaxis] - np.cos(theta_1))\n",
    "l_tot = l_tot / np.sin(2 * theta2_list)[:, np.newaxis]\n",
    "\n",
    "# Calculate the l1 quantity\n",
    "l1 = l0 * np.sin(theta_3)\n",
    "l1 = l1[:, np.newaxis] + d2_list[np.newaxis, :] * np.cos(theta_3)[:, np.newaxis]\n",
    "l1 = l1 / np.sin(2 * theta2_list)[:, np.newaxis]"
   ],
   "metadata": {
    "collapsed": false,
    "ExecuteTime": {
     "end_time": "2024-08-29T07:09:56.730822600Z",
     "start_time": "2024-08-29T07:09:56.686657200Z"
    }
   },
   "id": "f510d4d2e287b8fd"
  },
  {
   "cell_type": "code",
   "execution_count": 39,
   "outputs": [],
   "source": [
    "# Get the scatter plot\n",
    "theta_2_plot = np.zeros((1000, 1000))\n",
    "theta_2_plot[:, :] = theta2_list[:, np.newaxis]\n",
    "\n",
    "# Flatten the data\n",
    "l_tot_flat = np.reshape(l_tot, 1000 * 1000)\n",
    "theta2_flat = np.reshape(theta_2_plot, 1000 * 1000)\n",
    "l1_flat = np.reshape(l1, 1000 * 1000)\n",
    "\n",
    "# Center path length\n",
    "l_tot_center = l_tot[500, 500]\n",
    "l1_c = l1[-1, 500]"
   ],
   "metadata": {
    "collapsed": false,
    "ExecuteTime": {
     "end_time": "2024-08-29T07:10:28.683143200Z",
     "start_time": "2024-08-29T07:10:28.643145900Z"
    }
   },
   "id": "4488976843d5376"
  },
  {
   "cell_type": "code",
   "execution_count": 46,
   "outputs": [
    {
     "data": {
      "text/plain": "<Figure size 800x400 with 2 Axes>",
      "image/png": "[encoded data removed]"
     },
     "metadata": {},
     "output_type": "display_data"
    }
   ],
   "source": [
    "fig, ax = plt.subplots(nrows=1, ncols=2, figsize=(8, 4))\n",
    "\n",
    "ax[0].scatter(x=np.rad2deg(theta2_flat) * 1000, y=(l_tot_flat - l_tot_center) / util.c, c='b')\n",
    "ax[0].set_xlabel(r\"$\\Delta\\theta_2$ (mdeg)\")\n",
    "ax[0].set_ylabel(r\"$l_{tot} - l_{tot, c}$ (fs)\")\n",
    "#ax[0].axhline(y=0.1, color='r')\n",
    "#ax[0].axhline(y=-0.1, color='r')\n",
    "#ax[0].axvline(x=4, color='g')\n",
    "#ax[0].axvline(x=-4, color='g')\n",
    "#ax[0].set_ylim([-1, 1])\n",
    "#ax[0].set_xlim([-25, 25])\n",
    "\n",
    "\n",
    "ax[1].scatter(x=np.rad2deg(theta2_flat) * 1000 - 100, y=(l1_flat - l1_c)/1e3, c='b')\n",
    "ax[1].set_xlabel(r\"$\\Delta\\theta_2$ (mdeg)\")\n",
    "ax[1].set_ylabel(r\"$l_{1} - l_{1, c}$ (mm)\")\n",
    "#ax[1].axhline(y=200, color='r')\n",
    "#ax[1].axhline(y=-200, color='r')\n",
    "#ax[1].axvline(x=4, color='g')\n",
    "#ax[1].axvline(x=-4, color='g')\n",
    "#ax[1].set_ylim([-0.5e3, 0.5e3])\n",
    "\n",
    "plt.tight_layout()\n",
    "#plt.savefig(\"./ray_tracing_calculation.png\", dpi=300, bbox_inches='tight')\n",
    "plt.show()"
   ],
   "metadata": {
    "collapsed": false,
    "ExecuteTime": {
     "end_time": "2024-08-29T07:17:39.079365600Z",
     "start_time": "2024-08-29T07:17:32.418449300Z"
    }
   },
   "id": "aaadc9d660f6c49e"
  },
  {
   "cell_type": "code",
   "execution_count": 45,
   "outputs": [
    {
     "name": "stdout",
     "output_type": "stream",
     "text": [
      "mirror spatial separation 1.205 mm\n",
      "mirror sample separation 44.131 mm\n"
     ]
    }
   ],
   "source": [
    "l1_c = l1[-1, 500]\n",
    "print(\"mirror spatial separation {:.3f} mm\".format(2 * l1_c * np.tan(theta_1) / 1e3))\n",
    "print(\"mirror sample separation {:.3f} mm\".format((l0 - l1_c) / 1e3))\n"
   ],
   "metadata": {
    "collapsed": false,
    "ExecuteTime": {
     "end_time": "2024-08-29T07:13:31.008373600Z",
     "start_time": "2024-08-29T07:13:30.953222100Z"
    }
   },
   "id": "bce8ae624f65c5ec"
  },
  {
   "cell_type": "code",
   "execution_count": null,
   "outputs": [],
   "source": [],
   "metadata": {
    "collapsed": false
   },
   "id": "6eb47d0a62069206"
  }
 ],
 "metadata": {
  "kernelspec": {
   "display_name": "Python 3",
   "language": "python",
   "name": "python3"
  },
  "language_info": {
   "codemirror_mode": {
    "name": "ipython",
    "version": 2
   },
   "file_extension": ".py",
   "mimetype": "text/x-python",
   "name": "python",
   "nbconvert_exporter": "python",
   "pygments_lexer": "ipython2",
   "version": "2.7.6"
  }
 },
 "nbformat": 4,
 "nbformat_minor": 5
}
