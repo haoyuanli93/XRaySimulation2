{
 "cells": [
  {
   "cell_type": "markdown",
   "metadata": {
    "jp-MarkdownHeadingCollapsed": true
   },
   "source": [
    "#### Definition\n",
    "1. mm, s, radian, keV unless specified otherwise in the plot \n",
    "3. The coordinate convention of this simulation and its relation to XPP coordinate is \n",
    "    (axis 0, axis 1, axis 2) = (vertical, horizontal, propagation) = (xpp y, xpp x, xpp z) \n",
    "\n",
    "np.fft(field) = spectrum\n",
    "\n",
    "np.ifft(spectrum) = field"
   ]
  },
  {
   "cell_type": "markdown",
   "metadata": {
    "collapsed": false,
    "jupyter": {
     "outputs_hidden": false
    }
   },
   "source": [
    "# Important !!!"
   ]
  },
  {
   "cell_type": "code",
   "execution_count": 1,
   "metadata": {
    "ExecuteTime": {
     "end_time": "2024-08-21T08:44:19.561811Z",
     "start_time": "2024-08-21T08:44:19.507742400Z"
    },
    "collapsed": false,
    "jupyter": {
     "outputs_hidden": false
    }
   },
   "outputs": [],
   "source": [
    "# Whether use gpu-based wave-optics simulation or not.\n",
    "# With gpu=False, only ray-tracing calculation is performed. \n",
    "gpu = False"
   ]
  },
  {
   "cell_type": "code",
   "execution_count": 45,
   "metadata": {
    "ExecuteTime": {
     "end_time": "2024-08-21T08:44:21.189143700Z",
     "start_time": "2024-08-21T08:44:19.523158900Z"
    },
    "tags": []
   },
   "outputs": [],
   "source": [
    "import sys\n",
    "\n",
    "sys.path.append(\"../../../../XRaySimulation\")\n",
    "\n",
    "import numpy as np\n",
    "import matplotlib.pyplot as plt\n",
    "import matplotlib\n",
    "matplotlib.rcParams['font.family'] = ['serif']\n",
    "matplotlib.rcParams['font.size'] = 12\n",
    "\n",
    "from XRaySimulation import util, RockingCurve, Pulse\n",
    "\n",
    "# Level 1: simulate the XPP and the X-ray\n",
    "import Controller\n",
    "\n",
    "if gpu:\n",
    "    import gpuWaveOptics\n",
    "\n",
    "# Level 2: Develop the auto-alignment algorithm which control either the simulator or XPP controller through the parser.\n",
    "import parser\n",
    "\n",
    "plt.rcParams.update({'font.size': 12})"
   ]
  },
  {
   "cell_type": "markdown",
   "metadata": {
    "collapsed": false,
    "jupyter": {
     "outputs_hidden": false
    }
   },
   "source": [
    "## 1. Start the simulation"
   ]
  },
  {
   "cell_type": "code",
   "execution_count": 9,
   "metadata": {
    "ExecuteTime": {
     "end_time": "2024-08-21T08:44:21.267757600Z",
     "start_time": "2024-08-21T08:44:21.192365600Z"
    },
    "collapsed": false,
    "jupyter": {
     "outputs_hidden": false
    }
   },
   "outputs": [
    {
     "name": "stdout",
     "output_type": "stream",
     "text": [
      "Create a XA10A motor, moving along x rotation_axis.\n",
      "Create a XA10A motor, moving along y rotation_axis.\n",
      "Create a RA10A motor, rotating around y rotation_axis.\n",
      "Create a SA07A motor, rotating around z rotation_axis.\n",
      "Create a XA10A motor, moving along x rotation_axis.\n",
      "Create a XA10A motor, moving along y rotation_axis.\n",
      "Create a RA10A motor, rotating around y rotation_axis.\n",
      "Create a SA07A motor, rotating around z rotation_axis.\n",
      "Create a XA10A motor, moving along x rotation_axis.\n",
      "Create a XA10A motor, moving along y rotation_axis.\n",
      "Create a RA10A motor, rotating around y rotation_axis.\n",
      "Create a SA07A motor, rotating around z rotation_axis.\n",
      "Create a XA10A motor, moving along x rotation_axis.\n",
      "Create a XA10A motor, moving along y rotation_axis.\n",
      "Create a RA10A motor, rotating around y rotation_axis.\n",
      "Create a SA07A motor, rotating around z rotation_axis.\n",
      "Create a XA10A motor, moving along x rotation_axis.\n",
      "Create a XA10A motor, moving along y rotation_axis.\n",
      "Create a RA10A motor, rotating around y rotation_axis.\n",
      "Create a SA07A motor, rotating around z rotation_axis.\n",
      "Create a XA10A motor, moving along x rotation_axis.\n",
      "Create a XA10A motor, moving along y rotation_axis.\n",
      "Create a RA10A motor, rotating around y rotation_axis.\n",
      "Create a SA07A motor, rotating around z rotation_axis.\n",
      "Create a XA10A motor, moving along x rotation_axis.\n",
      "Create a RA10A motor, rotating around y rotation_axis.\n",
      "Create a RA10A motor, rotating around y rotation_axis.\n",
      "Create a SA07A motor, rotating around z rotation_axis.\n",
      "Create a XA10A motor, moving along x rotation_axis.\n",
      "Create a XA10A motor, moving along x rotation_axis.\n",
      "Create a XA10A motor, moving along x rotation_axis.\n",
      "Create a RA05A motor, rotating around y rotation_axis.\n",
      "Rotate motor to rotate around x rotation_axis\n",
      "Create a SA05A-R2S01 motor pair. The normal is pointing along y\n",
      "Rotate motor to face x rotation_axis\n",
      "Create a XA10A motor, moving along x rotation_axis.\n",
      "Create a XA10A motor, moving along x rotation_axis.\n",
      "Create a RA05A motor, rotating around y rotation_axis.\n",
      "Rotate motor to rotate around x rotation_axis\n",
      "Create a SA05A-R2S01 motor pair. The normal is pointing along y\n",
      "Rotate motor to face x rotation_axis\n",
      "Create a XA10A motor, moving along x rotation_axis.\n",
      "Create a XA10A motor, moving along x rotation_axis.\n",
      "Create a RA05A motor, rotating around y rotation_axis.\n",
      "Rotate motor to rotate around x rotation_axis\n",
      "Create a SA05A-R2S01 motor pair. The normal is pointing along y\n",
      "Rotate motor to face x rotation_axis\n",
      "Create a XA10A motor, moving along x rotation_axis.\n",
      "Create a XA10A motor, moving along y rotation_axis.\n",
      "Create a SA07A motor, rotating around z rotation_axis.\n",
      "Rotate motor to rotate around x rotation_axis\n",
      "Create a XA10A motor, moving along x rotation_axis.\n",
      "Create a XA10A motor, moving along x rotation_axis.\n",
      "Create a SA07A motor, rotating around z rotation_axis.\n",
      "Create a SA07A motor, rotating around z rotation_axis.\n",
      "Rotate motor to rotate around x rotation_axis\n",
      "Create a XA10A motor, moving along x rotation_axis.\n",
      "Create a XA10A motor, moving along x rotation_axis.\n",
      "Create a SA07A motor, rotating around z rotation_axis.\n",
      "Create a SA07A motor, rotating around z rotation_axis.\n",
      "Rotate motor to rotate around x rotation_axis\n",
      "Create a XA10A motor, moving along y rotation_axis.\n",
      "Create a XA10A motor, moving along x rotation_axis.\n",
      "Create a XA10A motor, moving along x rotation_axis.\n",
      "Create a SA05A-R2S01 motor pair. The normal is pointing along y\n",
      "Create a UTS100CC motor, moving along x rotation_axis.\n",
      "Create a XA10A motor, moving along y rotation_axis.\n",
      "Create a XA10A motor, moving along x rotation_axis.\n",
      "Create a RA05A motor, rotating around y rotation_axis.\n"
     ]
    }
   ],
   "source": [
    "# Create a controller object as we have at XPP\n",
    "x = Controller.XppController_TG()\n",
    "x.t1.optics.crystal_list[0].boundary[3][-1] = 10e3 / np.tan(np.deg2rad(15)) + x.t1.optics.crystal_list[0].boundary[0][-1]\n",
    "\n",
    "sase_source = Pulse.saseSource(nx=32, ny=32, nz=1024,\n",
    "                               dx=4, dy=4, dz=0.1, Ec=9.8,\n",
    "                               mean_pulse_energy_uJ=600,  # uJ.  10 uJ / 0.5eV * 30 eV = 600 uJ\n",
    "                               pulse_energy_sigma_uJ=100,\n",
    "                               # SASE energy fluctuation. Not the fluctuation after the xpp mono\n",
    "                               n_gaussian=500,\n",
    "                               mode_size_x=15,\n",
    "                               mode_size_y=15,\n",
    "                               mode_size_z=0.15 * util.c,\n",
    "                               mode_center_spread_x=20,\n",
    "                               mode_center_spread_y=20,\n",
    "                               mode_center_spread_z=20 * util.c,\n",
    "                               x0=np.array([0, -50e3, -30e6]))"
   ]
  },
  {
   "cell_type": "markdown",
   "metadata": {},
   "source": [
    "### Define functions on the fly"
   ]
  },
  {
   "cell_type": "code",
   "execution_count": 10,
   "metadata": {
    "ExecuteTime": {
     "end_time": "2024-08-21T08:44:21.269847400Z",
     "start_time": "2024-08-21T08:44:21.218479900Z"
    }
   },
   "outputs": [],
   "source": [
    "def move_vcc_zero():\n",
    "    _ = x.t2.x_umv(0)\n",
    "    _ = x.t3.x_umv(0)\n",
    "    \n",
    "def move_vcc(val):\n",
    "    _ = x.t2.x_umvr(val)\n",
    "    _ = x.t3.x_umvr(-val)\n",
    "\n",
    "def move_delay0(val):\n",
    "    _ = x.t2.x_umvr(val)\n",
    "    _ = x.t3.x_umvr(val)\n",
    "\n",
    "def move_delay(val):\n",
    "    _ = x.t45.delay_umvr(val)\n",
    "\n",
    "def move_sample():\n",
    "    print(\"Move sample tower to sample\")\n",
    "    print(\"Move sample.z\")\n",
    "    _ = x.sample.z_umv(11565.5671)\n",
    "    print(\"Move sample.x\")\n",
    "    _ = x.sample.x_umv(22804.9636)\n",
    "\n",
    "def move_yag():\n",
    "    print(\"Move sample tower to yag\")\n",
    "    print(\"Move sample.z\")\n",
    "    _ = x.sample.z_umv(0)\n",
    "    print(\"Move sample.x\")\n",
    "    _ = x.sample.x_umv(0)\n",
    "\n",
    "def move_sample_yag():\n",
    "    pass\n",
    "\n",
    "def optimize_miniSD_alignment(gpu_flag=gpu):\n",
    "    pass\n",
    "\n",
    "def optimize_CC_VCC_overlap(gpu_flag=gpu):\n",
    "    pass"
   ]
  },
  {
   "cell_type": "markdown",
   "metadata": {
    "collapsed": false,
    "jupyter": {
     "outputs_hidden": false
    }
   },
   "source": [
    "### Development the auto-alignment algorithm in this cell"
   ]
  },
  {
   "cell_type": "code",
   "execution_count": 11,
   "metadata": {
    "ExecuteTime": {
     "end_time": "2024-08-21T08:44:21.271516Z",
     "start_time": "2024-08-21T08:44:21.236484800Z"
    },
    "collapsed": false,
    "jupyter": {
     "outputs_hidden": false
    }
   },
   "outputs": [],
   "source": [
    "pass"
   ]
  },
  {
   "cell_type": "markdown",
   "metadata": {},
   "source": [
    "### Preparation: Align the mono"
   ]
  },
  {
   "cell_type": "code",
   "execution_count": 12,
   "metadata": {
    "ExecuteTime": {
     "end_time": "2024-08-21T08:44:23.480312800Z",
     "start_time": "2024-08-21T08:44:21.254170600Z"
    },
    "collapsed": false,
    "jupyter": {
     "outputs_hidden": false
    }
   },
   "outputs": [
    {
     "name": "stdout",
     "output_type": "stream",
     "text": [
      "Motor moved from 0.00000 to -17.88927 degree\n",
      "Motor moved from 0.00000 to -17.88927 degree\n",
      "Motor moved from -17.88927 to -17.89087 degree\n",
      "Motor moved from -17.88927 to -17.89107 degree\n"
     ]
    },
    {
     "data": {
      "image/png": "[encoded data removed]",
      "text/plain": [
       "<Figure size 800x600 with 4 Axes>"
      ]
     },
     "metadata": {},
     "output_type": "display_data"
    }
   ],
   "source": [
    "# Prepare a canvas. This section is not important. \n",
    "fig, ax = plt.subplots(ncols=2, nrows=2)\n",
    "fig.set_figheight(6)\n",
    "fig.set_figwidth(8)\n",
    "\n",
    "# show mono before alignment\n",
    "x.plot_mono_optics(ax=ax[0, 0])\n",
    "\n",
    "# show mono after alignment\n",
    "_ = x.align_xpp_mono()\n",
    "x.plot_mono_optics(ax=ax[0, 1], show_trajectory=True)\n",
    "x.plot_mono_rocking(ax_mono_t1=ax[1, 0], ax_mono_t2=ax[1, 1])\n",
    "\n",
    "plt.tight_layout()\n",
    "plt.show()"
   ]
  },
  {
   "cell_type": "markdown",
   "metadata": {},
   "source": [
    "### Preparation: Align the miniSD"
   ]
  },
  {
   "cell_type": "code",
   "execution_count": 13,
   "metadata": {
    "ExecuteTime": {
     "start_time": "2024-08-21T08:44:23.479241300Z"
    }
   },
   "outputs": [
    {
     "name": "stdout",
     "output_type": "stream",
     "text": [
      "Motor moved from 0.00000 to 19.23525 degree\n",
      "Motor moved from 0.00000 to 19.23525 degree\n",
      "Motor moved from 0.00000 to 19.23525 degree\n",
      "Motor moved from 0.00000 to 19.23525 degree\n",
      "Motor moved from 0.00000 to 19.23525 degree\n",
      "Motor moved from 0.00000 to 19.23525 degree\n",
      "Motor moved from 19.23525 to 19.24303 degree\n",
      "Motor moved from 19.23525 to 19.22941 degree\n",
      "Motor moved from 19.23525 to 19.22816 degree\n",
      "Motor moved from 19.23525 to 19.24473 degree\n",
      "Motor moved from 19.23525 to 19.24485 degree\n",
      "Motor moved from 19.23525 to 19.22824 degree\n",
      "Motor moved from 0.0000 um to to -6591.4251 um\n",
      "Motor moved from 0.0000 um to to 3070.1405 um\n",
      "Motor moved from 0.0000 um to to -300.0000 um\n",
      "Motor moved from 0.0000 um to to 300.0000 um\n"
     ]
    },
    {
     "data": {
      "image/png": "[encoded data removed]",
      "text/plain": [
       "<Figure size 1000x500 with 2 Axes>"
      ]
     },
     "metadata": {},
     "output_type": "display_data"
    }
   ],
   "source": [
    "# Prepare a canvas. This section is not important. \n",
    "fig, ax = plt.subplots(ncols=1, nrows=2)\n",
    "fig.set_figheight(5)\n",
    "fig.set_figwidth(10)\n",
    "\n",
    "#     Before alignment\n",
    "x.plot_miniSD_table(ax=ax[0], xlim=None, ylim=None, show_trajectory=False)\n",
    "\n",
    "#     After alignment\n",
    "_ = x.align_miniSD()\n",
    "# Move the t1x such that the tip is avoiding the x-ray\n",
    "displacement = - x.t1.optics.crystal_list[0].boundary[0][1]\n",
    "x.t1.x_umv(displacement)\n",
    "\n",
    "displacement = - x.t6.optics.crystal_list[1].boundary[0][1]\n",
    "x.t6.x_umv(displacement + 600)\n",
    "move_vcc(-300)\n",
    "\n",
    "x.plot_miniSD_table(ax=ax[1], xlim=None, ylim=None, show_trajectory=True)\n",
    "\n",
    "plt.tight_layout()\n",
    "plt.show()"
   ]
  },
  {
   "cell_type": "code",
   "execution_count": 76,
   "metadata": {},
   "outputs": [
    {
     "data": {
      "image/png": "[encoded data removed]",
      "text/plain": [
       "<Figure size 800x500 with 4 Axes>"
      ]
     },
     "metadata": {},
     "output_type": "display_data"
    }
   ],
   "source": [
    "fig3 = plt.figure(constrained_layout=True, figsize=(8,5))\n",
    "gs = fig3.add_gridspec(2, 3)\n",
    "\n",
    "# Show the sdo trajectory\n",
    "f3_ax1 = fig3.add_subplot(gs[0, :])\n",
    "x.plot_miniSD_table(ax=f3_ax1, xlim=None, ylim=[-100, 60], show_trajectory=True, show_device=False)\n",
    "f3_ax1.set_xlabel(\"z (mm)\\n(a)\")\n",
    "                  \n",
    "f3_ax2 = fig3.add_subplot(gs[1, 0])\n",
    "x.plot_miniSD_table(ax=f3_ax2, xlim=[42, 45], ylim=[-1.5, 1.5], show_trajectory=True, show_device=False)\n",
    "f3_ax2.set_xlabel(\"z (mm)\\n(b)\")\n",
    "\n",
    "f3_ax3 = fig3.add_subplot(gs[1, 1])\n",
    "position = x.t6.optics.crystal_list[1].boundary[0] / 1000\n",
    "x.plot_miniSD_table(ax=f3_ax3,\n",
    "                    xlim=[position[2]-1.5, position[2]+1.5],\n",
    "                    ylim=[position[1]-1.5, position[1]+1.5],\n",
    "                    show_trajectory=True, show_device=False)\n",
    "f3_ax3.set_xlabel(\"z (mm)\\n(c)\")\n",
    "\n",
    "\"\"\"\n",
    "f3_ax4 = fig3.add_subplot(gs[1, 2])\n",
    "position = np.copy(x.tg_g.grating_1.surface_point) / 1000\n",
    "x.tg_g.x_umv(5600 - 30)\n",
    "x.plot_miniSD_table(ax=f3_ax4,\n",
    "                    xlim=[position[2]-5, position[2]+5],\n",
    "                    ylim=[-1, 2],\n",
    "                    show_trajectory=True, show_device=False)\n",
    "f3_ax4.set_aspect(\"auto\")\n",
    "\"\"\"\n",
    "\n",
    "f3_ax5 = fig3.add_subplot(gs[1, 2])\n",
    "img = plt.imread(\"./attachment.png\", format='png')\n",
    "f3_ax5.imshow(img)\n",
    "#f3_ax5.set_axis_off()\n",
    "f3_ax5.set_xlabel(\"x\\n(d)\")\n",
    "f3_ax5.set_ylabel(\"y\")\n",
    "f3_ax5.set_xticklabels(\"\")\n",
    "f3_ax5.set_yticklabels(\"\")\n",
    "\n",
    "circle1 = plt.Circle((160, 370), 50, edgecolor='green', fill=False)\n",
    "circle2 = plt.Circle((250, 240), 50, edgecolor='white', fill=None)\n",
    "f3_ax5.add_patch(circle1)\n",
    "f3_ax5.text(x=220, y=370, s=\"pump\", color='green')\n",
    "f3_ax5.add_patch(circle2)\n",
    "f3_ax5.text(x=320, y=240, s=\"probe\", color='white')\n",
    "\n",
    "plt.savefig(\"./sd_trajectory.png\", bbox_inches='tight', dpi=300)\n",
    "plt.show()"
   ]
  },
  {
   "cell_type": "code",
   "execution_count": null,
   "metadata": {},
   "outputs": [],
   "source": [
    "x.g2.x_umv(5)"
   ]
  },
  {
   "cell_type": "code",
   "execution_count": null,
   "metadata": {},
   "outputs": [],
   "source": [
    "x.t6.optics.crystal_list[1].boundary[0]"
   ]
  },
  {
   "cell_type": "code",
   "execution_count": null,
   "metadata": {},
   "outputs": [],
   "source": [
    "x.t6.optics.crystal_list[0].boundary[0]"
   ]
  },
  {
   "cell_type": "code",
   "execution_count": null,
   "metadata": {},
   "outputs": [],
   "source": [
    "# Move the t1x such that the tip is avoiding the x-ray\n",
    "displacement = - x.t1.optics.crystal_list[0].boundary[0][1]\n",
    "x.t1.x_umv(displacement)\n"
   ]
  },
  {
   "cell_type": "code",
   "execution_count": null,
   "metadata": {
    "ExecuteTime": {
     "end_time": "2024-08-21T08:44:23.491819900Z",
     "start_time": "2024-08-21T08:44:23.483011100Z"
    }
   },
   "outputs": [],
   "source": [
    "fig, ax = plt.subplots(ncols=3, nrows=2)\n",
    "fig.set_figheight(5)\n",
    "fig.set_figwidth(10)\n",
    "\n",
    "x.plot_miniSD_rocking(ax_list=np.reshape(ax, 6))\n",
    "\n",
    "plt.tight_layout()\n",
    "plt.show()"
   ]
  },
  {
   "cell_type": "markdown",
   "metadata": {},
   "source": [
    "# Step 1: Find the X-ray pulse after miniSD on the downstream YAG after the miniSD"
   ]
  },
  {
   "cell_type": "code",
   "execution_count": null,
   "metadata": {
    "ExecuteTime": {
     "start_time": "2024-08-21T08:44:23.487443700Z"
    }
   },
   "outputs": [],
   "source": [
    "# Show the YAG boundaries and the CC pulse location on the YAG\n",
    "fig, ax = plt.subplots(ncols=1, nrows=1)\n",
    "fig.set_figheight(5)\n",
    "fig.set_figwidth(8)\n",
    "\n",
    "x.plot_beam_on_yag(ax=ax)\n",
    "\n",
    "plt.tight_layout()\n",
    "plt.show()"
   ]
  },
  {
   "cell_type": "markdown",
   "metadata": {},
   "source": [
    "# Step 2: Align the probe beam such that it overlap with the CC beam\n",
    "## Step 2a: Find the beam after the mirror 1 on the YAG\n"
   ]
  },
  {
   "cell_type": "code",
   "execution_count": null,
   "metadata": {
    "ExecuteTime": {
     "start_time": "2024-08-21T08:44:23.490817500Z"
    }
   },
   "outputs": [],
   "source": [
    "# Assume that we have calibrated the incident angle\n",
    "_ = x.m1.pi_umv(np.deg2rad(0.1))\n",
    "\n",
    "# Move the mirror position such that the interaction point with the mirror is at location z=4e6\n",
    "path_ref = x.get_raytracing_trajectory(path=\"probe m1 only\")\n",
    "_ = x.m1.y_umvr(100)\n",
    "path_new = x.get_raytracing_trajectory(path=\"probe m1 only\")\n",
    "\n",
    "coef = path_new[0][-2][2] - path_ref[0][-2][2]\n",
    "total_diff = x.m1.optics.surface_point[2] - path_new[0][-2][2]\n",
    "print(\"Move the TG-a pulse {:.5f} um in y axis by moving m1y 100 um\".format(coef))\n",
    "print(\"Need to move m1y {:.5f} um to compensate the total difference of {:.5f} um\".format(\n",
    "    total_diff / coef * 100, total_diff))\n",
    "_ = x.m1.y_umvr(total_diff / coef * 100)"
   ]
  },
  {
   "cell_type": "code",
   "execution_count": null,
   "metadata": {
    "ExecuteTime": {
     "end_time": "2024-08-21T08:44:23.568613900Z",
     "start_time": "2024-08-21T08:44:23.494947900Z"
    }
   },
   "outputs": [],
   "source": [
    "# Show the YAG boundaries and the CC pulse location on the YAG\n",
    "fig, ax = plt.subplots(ncols=2, nrows=1)\n",
    "fig.set_figheight(4)\n",
    "fig.set_figwidth(10)\n",
    "\n",
    "x.plot_beam_on_yag(ax=ax[0])\n",
    "x.plot_m1_traj(ax=ax[1], axis='yz')\n",
    "\n",
    "plt.tight_layout()\n",
    "plt.show()"
   ]
  },
  {
   "cell_type": "markdown",
   "metadata": {},
   "source": [
    "## Step 2b Align the silicon 111 crystal"
   ]
  },
  {
   "cell_type": "markdown",
   "metadata": {},
   "source": [
    "### Align Bragg angle"
   ]
  },
  {
   "cell_type": "code",
   "execution_count": null,
   "metadata": {
    "ExecuteTime": {
     "start_time": "2024-08-21T08:44:23.497993700Z"
    }
   },
   "outputs": [],
   "source": [
    "# During operation, we need to make sure first that the X-ray is hiting on the si 111 crsytal\n",
    "# Get the theoretical Bragg angle\n",
    "bragg_si111 = util.get_bragg_angle(wave_length=np.pi * 2 / x.gaussian_pulse.klen0, plane_distance=Controller.si111['thickness'])\n",
    "\n",
    "# Account for the 10 deg of the adaptor tilting\n",
    "ang_diff = bragg_si111 - np.deg2rad(10)\n",
    "\n",
    "# Rotate the crystal by the remaining angle\n",
    "_ = x.si.pi_umv(ang_diff)\n",
    "\n",
    "# Get the rocking curve from this crystal\n",
    "(angles1, reflect_sigma1,\n",
    " reflect_pi1, b_factor1, kout1) = RockingCurve.get_rocking_curve_around_axis(\n",
    "    kin=x.gaussian_pulse.k0,\n",
    "    scan_range=np.array([-np.deg2rad(0.1), np.deg2rad(0.1)]),\n",
    "    scan_number=10 ** 4,\n",
    "    rotation_axis=x.si.pi.rotation_axis,\n",
    "    crystal=x.si.optics,)\n",
    "\n",
    "# Get the target bragg peak\n",
    "fwhm, angle_adjust, index = util.get_fwhm(coordinate=angles1,\n",
    "                                          curve_values=np.square(np.abs(reflect_pi1)),\n",
    "                                          center=True,\n",
    "                                          get_index=True)\n",
    "\n",
    "# Move the crystal to the target path\n",
    "_ = x.si.pi_umv(target=x.si.pi.control_location + angle_adjust)"
   ]
  },
  {
   "cell_type": "markdown",
   "metadata": {},
   "source": [
    "### Align silicon position and overlap"
   ]
  },
  {
   "cell_type": "code",
   "execution_count": null,
   "metadata": {
    "ExecuteTime": {
     "start_time": "2024-08-21T08:44:23.500173Z"
    }
   },
   "outputs": [],
   "source": [
    "# Align the vertical overlap with the reference pump pulse\n",
    "probe_old_traj, kout, probe_old_path = x.get_raytracing_trajectory(path=\"probe\")\n",
    "_ = x.si.y_umvr(100)\n",
    "probe_new_traj, kout, probe_new_path = x.get_raytracing_trajectory(path=\"probe\")\n",
    "pump_ref_traj, kout, pump_ref_path = x.get_raytracing_trajectory(path=\"cc\")\n",
    "\n",
    "coef = probe_new_traj[-1][0] - probe_old_traj[-1][0]\n",
    "total_diff = pump_ref_traj[-1][0] - probe_new_traj[-1][0]\n",
    "\n",
    "print(\"Move the probe pulse {:.5f} um in y axis by moving siy 100 um\".format(coef))\n",
    "print(\"Need to move siy {:.5f} um to compensate the total difference of {:.5f} um\".format(total_diff / coef * 100,\n",
    "                                                                                          total_diff))\n",
    "_ = x.si.y_umvr(total_diff / coef * 100)"
   ]
  },
  {
   "cell_type": "code",
   "execution_count": null,
   "metadata": {
    "ExecuteTime": {
     "start_time": "2024-08-21T08:44:23.502582Z"
    }
   },
   "outputs": [],
   "source": [
    "# Show the YAG boundaries and the CC pulse location on the YAG\n",
    "fig, ax = plt.subplots(ncols=2, nrows=1)\n",
    "fig.set_figheight(4)\n",
    "fig.set_figwidth(10)\n",
    "\n",
    "x.plot_beam_on_yag(ax=ax[0])\n",
    "x.plot_si_traj(ax=ax[1], axis='yz')\n",
    "\n",
    "plt.tight_layout()\n",
    "plt.show()"
   ]
  },
  {
   "cell_type": "markdown",
   "metadata": {},
   "source": [
    "### Align the horizontal position of the probe beam with the CC beam"
   ]
  },
  {
   "cell_type": "code",
   "execution_count": null,
   "metadata": {
    "ExecuteTime": {
     "start_time": "2024-08-21T08:44:23.506352200Z"
    }
   },
   "outputs": [],
   "source": [
    "move_yag()\n",
    "\n",
    "# get current position of the beams on the yag\n",
    "beam_pos_1 = x.get_beam_position_on_yag()\n",
    "print(\"The different between probe beam and cc on the yag is\")\n",
    "print(beam_pos_1['probe'] - beam_pos_1['cc'])\n",
    "\n",
    "# Walk the motors a little bit\n",
    "move_vcc(100)\n",
    "\n",
    "# get current position of the beams on the yag\n",
    "beam_pos_2 = x.get_beam_position_on_yag()\n",
    "print(\"The different between probe beam and cc on the yag is\")\n",
    "print(beam_pos_2['probe'] - beam_pos_2['cc'])\n",
    "\n",
    "# get the dependence on the beam position and the motion of vcc motors\n",
    "change = beam_pos_2['probe'] - beam_pos_1['probe']\n",
    "print(\"The relative beam positions between the probe and cc beam changes\")\n",
    "print(change)\n",
    "print(\"by changing the t2x and t3x by 100 um\")\n",
    "\n",
    "delta = (beam_pos_2['cc'] - beam_pos_2['probe'])[1] / change[1] * 100\n",
    "\n",
    "print(\"The current total difference is\", beam_pos_2['cc'] - beam_pos_2['probe'])\n",
    "print(\"Needs to move {}um to elimiate the horizontal difference\".format(delta))\n",
    "\n",
    "move_vcc(delta)\n",
    "\n",
    "beam_pos_3 = x.get_beam_position_on_yag()\n",
    "print(\"After adjusting, the different between probe beam and cc on the yag is\")\n",
    "print(beam_pos_3['cc'] - beam_pos_3['probe'])"
   ]
  },
  {
   "cell_type": "markdown",
   "metadata": {},
   "source": [
    "# Step 3: Align the total reflection mirrors for the pump pulse for 5nm"
   ]
  },
  {
   "cell_type": "code",
   "execution_count": null,
   "metadata": {
    "ExecuteTime": {
     "start_time": "2024-08-21T08:44:23.510227Z"
    }
   },
   "outputs": [],
   "source": [
    "move_yag()\n",
    "\n",
    "_ = x.m2a.yaw_umv(np.deg2rad(0.35))\n",
    "_ = x.m2b.yaw_umv(np.deg2rad(0.35))\n",
    "\n",
    "kout_dict = x.get_sample_kout()\n",
    "tg_period = np.pi * 2 / (kout_dict['pump a'][-1] - kout_dict['pump b'][-1])[1]\n",
    "print(\"The TG period along each dimension in nm:\", tg_period * 1e3)"
   ]
  },
  {
   "cell_type": "code",
   "execution_count": null,
   "metadata": {
    "ExecuteTime": {
     "start_time": "2024-08-21T08:44:23.513911100Z"
    }
   },
   "outputs": [],
   "source": [
    "# Get the reference trajectory again\n",
    "pump_ref, kout, pump_ref_path = x.get_raytracing_trajectory(path='cc')\n",
    "\n",
    "print(\"Get trajectory a\")\n",
    "pump_a_traj, kout, pump_a_path = x.get_raytracing_trajectory(path='pump a')\n",
    "_ = x.m2a.x_umvr(100)\n",
    "pump_a_traj_new, kout, pump_a_path = x.get_raytracing_trajectory(path='pump a')\n",
    "# Get the ratio\n",
    "coef = pump_a_traj_new[-1][1] - pump_a_traj[-1][1]\n",
    "total_diff = pump_ref[-1][1] - pump_a_traj_new[-1][1]\n",
    "print(\"Move the TG-a pulse {:.5f} um in x axis by moving m2a_x 100 um\".format(coef))\n",
    "print(\"Need to move m2a_x {:.5f} um to compensate the total difference of {:.5f} um\".format(total_diff / coef * 100,\n",
    "                                                                                            total_diff))\n",
    "_ = x.m2a.x_umvr(total_diff / coef * 100)\n",
    "\n",
    "print(\"\\n \")\n",
    "\n",
    "print(\"Get trajectory b\")\n",
    "pump_b_traj, kout, pump_a_path = x.get_raytracing_trajectory(path='pump b')\n",
    "_ = x.m2b.x_umvr(100)\n",
    "pump_b_traj_new, kout, pump_b_path = x.get_raytracing_trajectory(path='pump b')\n",
    "# Get the ratio\n",
    "coef = pump_b_traj_new[-1][1] - pump_b_traj[-1][1]\n",
    "total_diff = pump_ref[-1][1] - pump_b_traj_new[-1][1]\n",
    "print(\"Move the TG-a pulse {:.5f} um in x axis by moving m2a_x 100 um\".format(coef))\n",
    "print(\"Need to move m2a_x {:.5f} um to compensate the total difference of {:.5f} um\".format(total_diff / coef * 100,\n",
    "                                                                                            total_diff))\n",
    "_ = x.m2b.x_umvr(total_diff / coef * 100)"
   ]
  },
  {
   "cell_type": "code",
   "execution_count": null,
   "metadata": {
    "ExecuteTime": {
     "start_time": "2024-08-21T08:44:23.517763800Z"
    }
   },
   "outputs": [],
   "source": [
    "move_yag()\n",
    "\n",
    "# Show the YAG boundaries and the CC pulse location on the YAG\n",
    "fig, ax = plt.subplots(ncols=2, nrows=2)\n",
    "fig.set_figheight(8)\n",
    "fig.set_figwidth(10)\n",
    "\n",
    "x.plot_beam_on_yag(ax=ax[0, 0])\n",
    "x.plot_si_traj(ax=ax[0, 1], axis='yz')\n",
    "#x.plot_tg_traj(ax=ax[1, 0], ylim=[-30, 20], axis='xz', xlim=[7400, 7800],)\n",
    "x.plot_tg_traj(ax=ax[1, 0], ylim=[-5, 5], axis='xz', xlim=[8000, 8300],)\n",
    "x.plot_tg_traj(ax=ax[1, 1], ylim=[-5, 20], axis='yz', xlim=[8000, 8300])\n",
    "\n",
    "plt.tight_layout()\n",
    "plt.show()"
   ]
  },
  {
   "cell_type": "markdown",
   "metadata": {},
   "source": [
    "### Align the miniSD location for time 0"
   ]
  },
  {
   "cell_type": "code",
   "execution_count": null,
   "metadata": {
    "ExecuteTime": {
     "start_time": "2024-08-21T08:44:23.521312300Z"
    }
   },
   "outputs": [],
   "source": [
    "# Search for delay = 0\n",
    "#move_delay0(1000)\n",
    "#move_delay(-12000)\n",
    "x.t45.delay_umv(-6000)\n",
    "x.t2.x_umv(3925.604162827285)\n",
    "x.t3.x_umv(2094.395837172715)\n",
    "\n",
    "pathLenght = x.get_arrival_time()\n",
    "print((pathLenght['pump a'] - pathLenght['pump b']) / util.c)\n",
    "print((pathLenght['pump a'] - pathLenght['probe']) / util.c)\n",
    "\n",
    "\n",
    "fig, ax = plt.subplots(ncols=1, nrows=1)\n",
    "fig.set_figheight(3)\n",
    "fig.set_figwidth(10)\n",
    "\n",
    "x.plot_miniSD_table(ax=ax, xlim=None, ylim=None, show_trajectory=True)\n",
    "\n",
    "plt.tight_layout()\n",
    "plt.show()"
   ]
  },
  {
   "cell_type": "code",
   "execution_count": null,
   "metadata": {
    "ExecuteTime": {
     "start_time": "2024-08-21T08:44:23.525894800Z"
    }
   },
   "outputs": [],
   "source": [
    "#move_delay0(-500)\n",
    "#move_delay(2000)\n",
    "x.t45.delay_umv(6000)\n",
    "x.t2.x_umv(3925.604162827285)\n",
    "x.t3.x_umv(2094.395837172715)\n",
    "pathLenght = x.get_arrival_time()\n",
    "print((pathLenght['pump a'] - pathLenght['pump b']) / util.c)\n",
    "print((pathLenght['pump a'] - pathLenght['probe']) / util.c)\n",
    "\n",
    "\n",
    "fig, ax = plt.subplots(ncols=1, nrows=1)\n",
    "fig.set_figheight(3)\n",
    "fig.set_figwidth(10)\n",
    "\n",
    "x.plot_miniSD_table(ax=ax, xlim=None, ylim=None, show_trajectory=True)\n",
    "\n",
    "plt.tight_layout()\n",
    "plt.show()"
   ]
  },
  {
   "cell_type": "markdown",
   "metadata": {},
   "source": [
    "# Step 3: Align the total reflection mirrors for the pump pulse for 7nm"
   ]
  },
  {
   "cell_type": "code",
   "execution_count": null,
   "metadata": {
    "ExecuteTime": {
     "start_time": "2024-08-21T08:44:23.530379900Z"
    }
   },
   "outputs": [],
   "source": [
    "_ = x.m2a.yaw_umv(np.deg2rad(0.25))\n",
    "_ = x.m2b.yaw_umv(np.deg2rad(0.25))\n",
    "x.m2a.z_umv(49e3)\n",
    "x.m2b.z_umv(49e3)\n",
    "\n",
    "kout_dict = x.get_sample_kout()\n",
    "tg_period = np.pi * 2 / (kout_dict['pump a'][-1] - kout_dict['pump b'][-1])[1]\n",
    "print(\"The TG period along each dimension in nm:\", tg_period * 1e3)"
   ]
  },
  {
   "cell_type": "code",
   "execution_count": null,
   "metadata": {
    "ExecuteTime": {
     "start_time": "2024-08-21T08:44:23.533878700Z"
    }
   },
   "outputs": [],
   "source": [
    "# Get the reference trajectory again\n",
    "pump_ref, kout, pump_ref_path = x.get_raytracing_trajectory(path='cc')\n",
    "\n",
    "print(\"Get trajectory a\")\n",
    "pump_a_traj, kout, pump_a_path = x.get_raytracing_trajectory(path='pump a')\n",
    "_ = x.m2a.x_umvr(100)\n",
    "pump_a_traj_new, kout, pump_a_path = x.get_raytracing_trajectory(path='pump a')\n",
    "# Get the ratio\n",
    "coef = pump_a_traj_new[-1][1] - pump_a_traj[-1][1]\n",
    "total_diff = pump_ref[-1][1] - pump_a_traj_new[-1][1]\n",
    "print(\"Move the TG-a pulse {:.5f} um in x axis by moving m2a_x 100 um\".format(coef))\n",
    "print(\"Need to move m2a_x {:.5f} um to compensate the total difference of {:.5f} um\".format(total_diff / coef * 100,\n",
    "                                                                                            total_diff))\n",
    "_ = x.m2a.x_umvr(total_diff / coef * 100)\n",
    "\n",
    "print(\"\\n \")\n",
    "\n",
    "print(\"Get trajectory b\")\n",
    "pump_b_traj, kout, pump_a_path = x.get_raytracing_trajectory(path='pump b')\n",
    "_ = x.m2b.x_umvr(100)\n",
    "pump_b_traj_new, kout, pump_b_path = x.get_raytracing_trajectory(path='pump b')\n",
    "# Get the ratio\n",
    "coef = pump_b_traj_new[-1][1] - pump_b_traj[-1][1]\n",
    "total_diff = pump_ref[-1][1] - pump_b_traj_new[-1][1]\n",
    "print(\"Move the TG-a pulse {:.5f} um in x axis by moving m2a_x 100 um\".format(coef))\n",
    "print(\"Need to move m2a_x {:.5f} um to compensate the total difference of {:.5f} um\".format(total_diff / coef * 100,\n",
    "                                                                                            total_diff))\n",
    "_ = x.m2b.x_umvr(total_diff / coef * 100)"
   ]
  },
  {
   "cell_type": "code",
   "execution_count": null,
   "metadata": {
    "ExecuteTime": {
     "start_time": "2024-08-21T08:44:23.538281600Z"
    }
   },
   "outputs": [],
   "source": [
    "# Show the YAG boundaries and the CC pulse location on the YAG\n",
    "fig, ax = plt.subplots(ncols=2, nrows=2)\n",
    "fig.set_figheight(8)\n",
    "fig.set_figwidth(10)\n",
    "\n",
    "x.plot_beam_on_yag(ax=ax[0, 0])\n",
    "x.plot_si_traj(ax=ax[0, 1], axis='yz')\n",
    "#x.plot_tg_traj(ax=ax[1, 0], ylim=[-30, 20], axis='xz', xlim=[7400, 7800],)\n",
    "x.plot_tg_traj(ax=ax[1, 0], ylim=[-5, 5], axis='xz', xlim=[7900, 8200],)\n",
    "x.plot_tg_traj(ax=ax[1, 1], ylim=[-5, 20], axis='yz', xlim=[7900, 8200])\n",
    "\n",
    "plt.tight_layout()\n",
    "plt.show()"
   ]
  },
  {
   "cell_type": "code",
   "execution_count": null,
   "metadata": {
    "ExecuteTime": {
     "start_time": "2024-08-21T08:44:23.541994Z"
    }
   },
   "outputs": [],
   "source": [
    "# Search for delay = 0\n",
    "#move_delay0(1000)\n",
    "#move_delay(-12000)\n",
    "x.t45.delay_umv(-6000)\n",
    "x.t2.x_umv(3925.604162827285)\n",
    "x.t3.x_umv(2094.395837172715)\n",
    "\n",
    "pathLenght = x.get_arrival_time()\n",
    "print((pathLenght['pump a'] - pathLenght['pump b']) / util.c)\n",
    "print((pathLenght['pump a'] - pathLenght['probe']) / util.c)\n",
    "\n",
    "\n",
    "fig, ax = plt.subplots(ncols=1, nrows=1)\n",
    "fig.set_figheight(3)\n",
    "fig.set_figwidth(10)\n",
    "\n",
    "x.plot_miniSD_table(ax=ax, xlim=None, ylim=None, show_trajectory=True)\n",
    "\n",
    "plt.tight_layout()\n",
    "plt.show()"
   ]
  },
  {
   "cell_type": "code",
   "execution_count": null,
   "metadata": {
    "ExecuteTime": {
     "start_time": "2024-08-21T08:44:23.546643500Z"
    }
   },
   "outputs": [],
   "source": [
    "#move_delay0(-500)\n",
    "#move_delay(2000)\n",
    "x.t45.delay_umv(6000)\n",
    "x.t2.x_umv(3925.604162827285)\n",
    "x.t3.x_umv(2094.395837172715)\n",
    "pathLenght = x.get_arrival_time()\n",
    "print((pathLenght['pump a'] - pathLenght['pump b']) / util.c)\n",
    "print((pathLenght['pump a'] - pathLenght['probe']) / util.c)\n",
    "\n",
    "\n",
    "fig, ax = plt.subplots(ncols=1, nrows=1)\n",
    "fig.set_figheight(3)\n",
    "fig.set_figwidth(10)\n",
    "\n",
    "x.plot_miniSD_table(ax=ax, xlim=None, ylim=None, show_trajectory=True)\n",
    "\n",
    "plt.tight_layout()\n",
    "plt.show()"
   ]
  },
  {
   "cell_type": "markdown",
   "metadata": {},
   "source": [
    "# Step 3: Align the total reflection mirrors for the pump pulse for 15nm"
   ]
  },
  {
   "cell_type": "code",
   "execution_count": null,
   "metadata": {
    "ExecuteTime": {
     "start_time": "2024-08-21T08:44:23.550062400Z"
    }
   },
   "outputs": [],
   "source": [
    "x.m2a.z.control_limits"
   ]
  },
  {
   "cell_type": "code",
   "execution_count": null,
   "metadata": {
    "ExecuteTime": {
     "start_time": "2024-08-21T08:44:23.553842700Z"
    }
   },
   "outputs": [],
   "source": [
    "_ = x.m2a.yaw_umv(np.deg2rad(0.12))\n",
    "_ = x.m2b.yaw_umv(np.deg2rad(0.12))\n",
    "x.m2a.z_umv(-49e3)\n",
    "x.m2b.z_umv(-49e3)\n",
    "\n",
    "kout_dict = x.get_sample_kout()\n",
    "tg_period = np.pi * 2 / (kout_dict['pump a'][-1] - kout_dict['pump b'][-1])[1]\n",
    "print(\"The TG period along each dimension in nm:\", tg_period * 1e3)"
   ]
  },
  {
   "cell_type": "code",
   "execution_count": null,
   "metadata": {
    "ExecuteTime": {
     "start_time": "2024-08-21T08:44:23.557323500Z"
    }
   },
   "outputs": [],
   "source": [
    "# Get the reference trajectory again\n",
    "pump_ref, kout, pump_ref_path = x.get_raytracing_trajectory(path='cc')\n",
    "\n",
    "print(\"Get trajectory a\")\n",
    "pump_a_traj, kout, pump_a_path = x.get_raytracing_trajectory(path='pump a')\n",
    "_ = x.m2a.x_umvr(100)\n",
    "pump_a_traj_new, kout, pump_a_path = x.get_raytracing_trajectory(path='pump a')\n",
    "# Get the ratio\n",
    "coef = pump_a_traj_new[-1][1] - pump_a_traj[-1][1]\n",
    "total_diff = pump_ref[-1][1] - pump_a_traj_new[-1][1]\n",
    "print(\"Move the TG-a pulse {:.5f} um in x axis by moving m2a_x 100 um\".format(coef))\n",
    "print(\"Need to move m2a_x {:.5f} um to compensate the total difference of {:.5f} um\".format(total_diff / coef * 100,\n",
    "                                                                                            total_diff))\n",
    "_ = x.m2a.x_umvr(total_diff / coef * 100)\n",
    "\n",
    "print(\"\\n \")\n",
    "\n",
    "print(\"Get trajectory b\")\n",
    "pump_b_traj, kout, pump_a_path = x.get_raytracing_trajectory(path='pump b')\n",
    "_ = x.m2b.x_umvr(100)\n",
    "pump_b_traj_new, kout, pump_b_path = x.get_raytracing_trajectory(path='pump b')\n",
    "# Get the ratio\n",
    "coef = pump_b_traj_new[-1][1] - pump_b_traj[-1][1]\n",
    "total_diff = pump_ref[-1][1] - pump_b_traj_new[-1][1]\n",
    "print(\"Move the TG-a pulse {:.5f} um in x axis by moving m2a_x 100 um\".format(coef))\n",
    "print(\"Need to move m2a_x {:.5f} um to compensate the total difference of {:.5f} um\".format(total_diff / coef * 100,\n",
    "                                                                                            total_diff))\n",
    "_ = x.m2b.x_umvr(total_diff / coef * 100)"
   ]
  },
  {
   "cell_type": "code",
   "execution_count": null,
   "metadata": {
    "ExecuteTime": {
     "start_time": "2024-08-21T08:44:23.561388200Z"
    }
   },
   "outputs": [],
   "source": [
    "# Show the YAG boundaries and the CC pulse location on the YAG\n",
    "fig, ax = plt.subplots(ncols=2, nrows=2)\n",
    "fig.set_figheight(8)\n",
    "fig.set_figwidth(10)\n",
    "\n",
    "x.plot_beam_on_yag(ax=ax[0, 0])\n",
    "x.plot_si_traj(ax=ax[0, 1], axis='yz')\n",
    "#x.plot_tg_traj(ax=ax[1, 0], ylim=[-30, 20], axis='xz', xlim=[7400, 7800],)\n",
    "x.plot_tg_traj(ax=ax[1, 0], ylim=[-5, 5], axis='xz', xlim=[7900, 8200],)\n",
    "x.plot_tg_traj(ax=ax[1, 1], ylim=[-5, 20], axis='yz', xlim=[7900, 8200])\n",
    "\n",
    "plt.tight_layout()\n",
    "plt.show()"
   ]
  },
  {
   "cell_type": "code",
   "execution_count": null,
   "metadata": {
    "ExecuteTime": {
     "start_time": "2024-08-21T08:44:23.565112400Z"
    }
   },
   "outputs": [],
   "source": [
    "# Search for delay = 0\n",
    "#move_delay0(1000)\n",
    "#move_delay(-12000)\n",
    "x.t45.delay_umv(-6000)\n",
    "x.t2.x_umv(3925.604162827285)\n",
    "x.t3.x_umv(2094.395837172715)\n",
    "\n",
    "pathLenght = x.get_arrival_time()\n",
    "print((pathLenght['pump a'] - pathLenght['pump b']) / util.c)\n",
    "print((pathLenght['pump a'] - pathLenght['probe']) / util.c)\n",
    "\n",
    "\n",
    "fig, ax = plt.subplots(ncols=1, nrows=1)\n",
    "fig.set_figheight(3)\n",
    "fig.set_figwidth(10)\n",
    "\n",
    "x.plot_miniSD_table(ax=ax, xlim=None, ylim=None, show_trajectory=True)\n",
    "\n",
    "plt.tight_layout()\n",
    "plt.show()"
   ]
  },
  {
   "cell_type": "code",
   "execution_count": null,
   "metadata": {
    "ExecuteTime": {
     "end_time": "2024-08-21T08:44:23.696712300Z",
     "start_time": "2024-08-21T08:44:23.569688300Z"
    }
   },
   "outputs": [],
   "source": [
    "#move_delay0(-500)\n",
    "#move_delay(2000)\n",
    "x.t45.delay_umv(6000)\n",
    "x.t2.x_umv(3925.604162827285)\n",
    "x.t3.x_umv(2094.395837172715)\n",
    "pathLenght = x.get_arrival_time()\n",
    "print((pathLenght['pump a'] - pathLenght['pump b']) / util.c)\n",
    "print((pathLenght['pump a'] - pathLenght['probe']) / util.c)\n",
    "\n",
    "\n",
    "fig, ax = plt.subplots(ncols=1, nrows=1)\n",
    "fig.set_figheight(3)\n",
    "fig.set_figwidth(10)\n",
    "\n",
    "x.plot_miniSD_table(ax=ax, xlim=None, ylim=None, show_trajectory=True)\n",
    "\n",
    "plt.tight_layout()\n",
    "plt.show()"
   ]
  },
  {
   "cell_type": "markdown",
   "metadata": {},
   "source": [
    "# Step 4: Find the X-ray beam on the sample YAG screen"
   ]
  },
  {
   "cell_type": "code",
   "execution_count": null,
   "metadata": {
    "ExecuteTime": {
     "start_time": "2024-08-21T08:44:23.573319300Z"
    }
   },
   "outputs": [],
   "source": [
    "# Step 1: Move the sample to the location of the YAG\n",
    "move_sample()"
   ]
  },
  {
   "cell_type": "markdown",
   "metadata": {},
   "source": [
    "# Step 5: Refine the spatial overlap"
   ]
  },
  {
   "cell_type": "code",
   "execution_count": null,
   "metadata": {
    "ExecuteTime": {
     "start_time": "2024-08-21T08:44:23.576544600Z"
    }
   },
   "outputs": [],
   "source": [
    "x.sample.x_umvr(-1)"
   ]
  },
  {
   "cell_type": "code",
   "execution_count": null,
   "metadata": {
    "ExecuteTime": {
     "start_time": "2024-08-21T08:44:23.578742100Z"
    }
   },
   "outputs": [],
   "source": [
    "x.sample.x_umvr(-1)"
   ]
  },
  {
   "cell_type": "code",
   "execution_count": null,
   "metadata": {
    "ExecuteTime": {
     "start_time": "2024-08-21T08:44:23.582028300Z"
    }
   },
   "outputs": [],
   "source": [
    "beam_path_sample = x.get_beam_position_on_sample_yag()\n",
    "beam_path_sample['probe'] - beam_path_sample['cc']"
   ]
  },
  {
   "cell_type": "code",
   "execution_count": null,
   "metadata": {
    "ExecuteTime": {
     "start_time": "2024-08-21T08:44:23.585379200Z"
    }
   },
   "outputs": [],
   "source": [
    "fig, axes = plt.subplots(ncols=2, nrows=2)\n",
    "\n",
    "fig.set_figheight(8)\n",
    "fig.set_figwidth(10)\n",
    "\n",
    "x.plot_beam_on_sample_yag(ax=axes[0, 0])\n",
    "x.plot_beam_on_yag(ax=axes[0, 1])\n",
    "x.plot_tg_traj(ax=axes[1, 0], ylim=[-2, 3], axis='xz')\n",
    "x.plot_tg_traj(ax=axes[1, 1], ylim=[-5, 20], axis='yz')\n",
    "\n",
    "plt.tight_layout()\n",
    "plt.show()"
   ]
  },
  {
   "cell_type": "code",
   "execution_count": null,
   "metadata": {
    "ExecuteTime": {
     "start_time": "2024-08-21T08:44:23.588499Z"
    }
   },
   "outputs": [],
   "source": [
    "x.sample.z_umvr(-1)"
   ]
  },
  {
   "cell_type": "code",
   "execution_count": null,
   "metadata": {
    "ExecuteTime": {
     "start_time": "2024-08-21T08:44:23.590615500Z"
    }
   },
   "outputs": [],
   "source": [
    "x.sample.z_umv(11565.5671)"
   ]
  },
  {
   "cell_type": "code",
   "execution_count": null,
   "metadata": {
    "ExecuteTime": {
     "start_time": "2024-08-21T08:44:23.591682200Z"
    }
   },
   "outputs": [],
   "source": [
    "beam_path_sample = x.get_beam_position_on_sample_yag()\n",
    "beam_path_sample['probe'] - beam_path_sample['cc']"
   ]
  },
  {
   "cell_type": "markdown",
   "metadata": {},
   "source": [
    "### It seems that by ajusting the position of the sample stage motors, one cannot achieve good quality overlap"
   ]
  },
  {
   "cell_type": "code",
   "execution_count": null,
   "metadata": {
    "ExecuteTime": {
     "start_time": "2024-08-21T08:44:23.593798200Z"
    }
   },
   "outputs": [],
   "source": [
    "x.sample.z_umv(11565.5671)\n",
    "x.sample.x_umv(21650.9636)"
   ]
  },
  {
   "cell_type": "code",
   "execution_count": null,
   "metadata": {
    "ExecuteTime": {
     "start_time": "2024-08-21T08:44:23.594966Z"
    }
   },
   "outputs": [],
   "source": [
    "beam_path_sample = x.get_beam_position_on_sample_yag()\n",
    "beam_path_sample['probe'] - beam_path_sample['cc']"
   ]
  },
  {
   "cell_type": "code",
   "execution_count": null,
   "metadata": {
    "ExecuteTime": {
     "start_time": "2024-08-21T08:44:23.597157200Z"
    }
   },
   "outputs": [],
   "source": [
    "x.si.y_umvr(-1)"
   ]
  },
  {
   "cell_type": "code",
   "execution_count": null,
   "metadata": {
    "ExecuteTime": {
     "start_time": "2024-08-21T08:44:23.599359Z"
    }
   },
   "outputs": [],
   "source": [
    "beam_path_sample = x.get_beam_position_on_sample_yag()\n",
    "beam_path_sample['probe'] - beam_path_sample['cc']"
   ]
  },
  {
   "cell_type": "code",
   "execution_count": null,
   "metadata": {
    "ExecuteTime": {
     "start_time": "2024-08-21T08:44:23.601527800Z"
    }
   },
   "outputs": [],
   "source": [
    "x.si.roll.user_get_position()"
   ]
  },
  {
   "cell_type": "code",
   "execution_count": null,
   "metadata": {
    "ExecuteTime": {
     "start_time": "2024-08-21T08:44:23.602595Z"
    }
   },
   "outputs": [],
   "source": [
    "x.si.roll.control_limits"
   ]
  },
  {
   "cell_type": "code",
   "execution_count": null,
   "metadata": {
    "ExecuteTime": {
     "start_time": "2024-08-21T08:44:23.604752700Z"
    }
   },
   "outputs": [],
   "source": [
    "x.si.roll_umv(np.deg2rad(0.0))"
   ]
  },
  {
   "cell_type": "code",
   "execution_count": null,
   "metadata": {
    "ExecuteTime": {
     "start_time": "2024-08-21T08:44:23.605755500Z"
    }
   },
   "outputs": [],
   "source": [
    "beam_path_sample = x.get_beam_position_on_sample_yag()\n",
    "beam_path_sample['probe'] - beam_path_sample['cc']"
   ]
  },
  {
   "cell_type": "code",
   "execution_count": null,
   "metadata": {
    "ExecuteTime": {
     "start_time": "2024-08-21T08:44:23.609056800Z"
    }
   },
   "outputs": [],
   "source": [
    "x.sample.x_umvr(1)"
   ]
  },
  {
   "cell_type": "code",
   "execution_count": null,
   "metadata": {
    "ExecuteTime": {
     "start_time": "2024-08-21T08:44:23.611433800Z"
    }
   },
   "outputs": [],
   "source": [
    "beam_path_sample = x.get_beam_position_on_sample_yag()\n",
    "beam_path_sample['probe'] - beam_path_sample['cc']"
   ]
  },
  {
   "cell_type": "code",
   "execution_count": null,
   "metadata": {
    "ExecuteTime": {
     "start_time": "2024-08-21T08:44:23.613600300Z"
    }
   },
   "outputs": [],
   "source": [
    "fig, axes = plt.subplots(ncols=2, nrows=2)\n",
    "\n",
    "fig.set_figheight(8)\n",
    "fig.set_figwidth(10)\n",
    "\n",
    "x.plot_beam_on_sample_yag(ax=axes[0, 0])\n",
    "x.plot_beam_on_yag(ax=axes[0, 1])\n",
    "x.plot_tg_traj(ax=axes[1, 0], ylim=[-2, 3], axis='xz')\n",
    "x.plot_tg_traj(ax=axes[1, 1], ylim=[-5, 20], axis='yz')\n",
    "\n",
    "plt.tight_layout()\n",
    "plt.show()"
   ]
  },
  {
   "cell_type": "markdown",
   "metadata": {},
   "source": [
    "# Step 6: Find the delay time"
   ]
  },
  {
   "cell_type": "code",
   "execution_count": null,
   "metadata": {
    "ExecuteTime": {
     "start_time": "2024-08-21T08:44:23.616811700Z"
    }
   },
   "outputs": [],
   "source": [
    "pathLenght = x.get_arrival_time()"
   ]
  },
  {
   "cell_type": "code",
   "execution_count": null,
   "metadata": {
    "ExecuteTime": {
     "start_time": "2024-08-21T08:44:23.618903600Z"
    }
   },
   "outputs": [],
   "source": [
    "print((pathLenght['pump a'] - pathLenght['pump b']) / util.c)\n",
    "print((pathLenght['pump a'] - pathLenght['probe']) / util.c)"
   ]
  },
  {
   "cell_type": "markdown",
   "metadata": {},
   "source": [
    "# Step 7: Calculate the Ewarld sphere and Q space coverage during rotation"
   ]
  },
  {
   "cell_type": "code",
   "execution_count": null,
   "metadata": {
    "ExecuteTime": {
     "start_time": "2024-08-21T08:44:23.620036200Z"
    }
   },
   "outputs": [],
   "source": [
    "10 / np.arcsin(np.deg2rad(5))"
   ]
  },
  {
   "cell_type": "code",
   "execution_count": null,
   "metadata": {
    "ExecuteTime": {
     "start_time": "2024-08-21T08:44:23.622155600Z"
    }
   },
   "outputs": [],
   "source": [
    "beam_path_sample = x.get_beam_position_on_sample_yag()\n",
    "beam_path_sample['pump a'] - beam_path_sample['pump b']"
   ]
  },
  {
   "cell_type": "code",
   "execution_count": null,
   "metadata": {
    "ExecuteTime": {
     "start_time": "2024-08-21T08:44:23.624428100Z"
    }
   },
   "outputs": [],
   "source": [
    "beam_path_sample = x.get_beam_position_on_sample_yag()\n",
    "beam_path_sample['pump a'] - beam_path_sample['cc']"
   ]
  },
  {
   "cell_type": "code",
   "execution_count": null,
   "metadata": {
    "ExecuteTime": {
     "start_time": "2024-08-21T08:44:23.625927300Z"
    }
   },
   "outputs": [],
   "source": [
    "beam_path_sample = x.get_beam_position_on_sample_yag()\n",
    "beam_path_sample['pump b'] - beam_path_sample['cc']"
   ]
  },
  {
   "cell_type": "code",
   "execution_count": null,
   "metadata": {
    "ExecuteTime": {
     "start_time": "2024-08-21T08:44:23.628080400Z"
    }
   },
   "outputs": [],
   "source": [
    "x.m2a.x_umvr(-1)"
   ]
  },
  {
   "cell_type": "code",
   "execution_count": null,
   "metadata": {
    "ExecuteTime": {
     "start_time": "2024-08-21T08:44:23.631362300Z"
    }
   },
   "outputs": [],
   "source": [
    "x.m2a.x_umvr(1)"
   ]
  },
  {
   "cell_type": "code",
   "execution_count": null,
   "metadata": {
    "ExecuteTime": {
     "start_time": "2024-08-21T08:44:23.633951700Z"
    }
   },
   "outputs": [],
   "source": [
    "beam_path_sample = x.get_beam_position_on_sample_yag()\n",
    "print(beam_path_sample['pump a'] - beam_path_sample['cc'])\n",
    "print(beam_path_sample['pump b'] - beam_path_sample['cc'])"
   ]
  },
  {
   "cell_type": "code",
   "execution_count": null,
   "metadata": {
    "ExecuteTime": {
     "start_time": "2024-08-21T08:44:23.635033Z"
    }
   },
   "outputs": [],
   "source": [
    "pathLenght = x.get_path_length()\n",
    "print((pathLenght['pump a'] - pathLenght['pump b']) / util.c)\n",
    "print((pathLenght['pump a'] - pathLenght['probe']) / util.c / 1000)"
   ]
  },
  {
   "cell_type": "code",
   "execution_count": null,
   "metadata": {
    "ExecuteTime": {
     "start_time": "2024-08-21T08:44:23.637180800Z"
    }
   },
   "outputs": [],
   "source": [
    "(beam_path_sample['pump a'] - beam_path_sample['pump b']) / util.c"
   ]
  },
  {
   "cell_type": "code",
   "execution_count": null,
   "metadata": {
    "ExecuteTime": {
     "start_time": "2024-08-21T08:44:23.638248600Z"
    }
   },
   "outputs": [],
   "source": [
    "1 / np.tan(np.deg2rad(5)) / util.c"
   ]
  },
  {
   "cell_type": "code",
   "execution_count": null,
   "metadata": {
    "ExecuteTime": {
     "start_time": "2024-08-21T08:44:23.640721400Z"
    }
   },
   "outputs": [],
   "source": []
  }
 ],
 "metadata": {
  "kernelspec": {
   "display_name": "Python 3 (ipykernel)",
   "language": "python",
   "name": "python3"
  },
  "language_info": {
   "codemirror_mode": {
    "name": "ipython",
    "version": 3
   },
   "file_extension": ".py",
   "mimetype": "text/x-python",
   "name": "python",
   "nbconvert_exporter": "python",
   "pygments_lexer": "ipython3",
   "version": "3.8.18"
  }
 },
 "nbformat": 4,
 "nbformat_minor": 4
}
