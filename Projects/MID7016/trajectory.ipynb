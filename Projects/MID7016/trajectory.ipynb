{
 "cells": [
  {
   "cell_type": "code",
   "execution_count": 5,
   "id": "initial_id",
   "metadata": {
    "collapsed": true,
    "ExecuteTime": {
     "end_time": "2024-08-24T05:00:04.773934600Z",
     "start_time": "2024-08-24T05:00:04.757306600Z"
    }
   },
   "outputs": [],
   "source": [
    "import numpy as np\n",
    "import matplotlib.pyplot as plt\n",
    "from scipy import optimize\n",
    "from scipy.optimize import minimize"
   ]
  },
  {
   "cell_type": "code",
   "execution_count": 6,
   "outputs": [
    {
     "name": "stdout",
     "output_type": "stream",
     "text": [
      "1.324483819280431\n",
      "uJ 2.648967638560862\n"
     ]
    }
   ],
   "source": [
    "attenuation_length = 4.5  # um\n",
    "absorption = 1 - np.exp(-60e-3 / attenuation_length)\n",
    "print(absorption * 100)\n",
    "\n",
    "energy_in = 200   # uJ\n",
    "energy_absorbed = energy_in * absorption\n",
    "print(\"uJ\", energy_absorbed)\n",
    "\n",
    "area = 50 * 50  # um^2\n",
    "\n"
   ],
   "metadata": {
    "collapsed": false,
    "ExecuteTime": {
     "end_time": "2024-08-24T05:00:05.001012800Z",
     "start_time": "2024-08-24T05:00:04.968974700Z"
    }
   },
   "id": "ac910b6503662a89"
  },
  {
   "cell_type": "code",
   "execution_count": 7,
   "outputs": [],
   "source": [
    "hbar = 0.0006582119514  # This is the reduced planck constant in keV/fs\n",
    "c = 299792458. * 1e-9  # The speed of light in um / fs\n",
    "\n",
    "\n",
    "def kev_to_wavevec_length(energy):\n",
    "    return energy / hbar / c\n",
    "\n",
    "\n",
    "def get_rotmat_around_axis(angleRadian, axis):\n",
    "    \"\"\"\n",
    "    Get a rotation matrix that rotate a vector\n",
    "    with respect to an rotation_axis by some si111_angle in radian.\n",
    "\n",
    "    According to the right hand rule,\n",
    "    if one aligns the thumb with the positive direction of the rotation_axis,\n",
    "    then a positive si111_angle is direction of your four fingers with\n",
    "    a hollow fist.\n",
    "\n",
    "    :param angleRadian:\n",
    "    :param axis:\n",
    "    :return:\n",
    "    \"\"\"\n",
    "\n",
    "    # Check the rotation_axis length and normalize it\n",
    "    if np.linalg.norm(axis) < 1e-6:\n",
    "        print(\"The rotation_axis has to be a vector of unit length.\")\n",
    "        return False\n",
    "    axis /= np.linalg.norm(axis)\n",
    "\n",
    "    # Step 1: get a vector that is not parallel with the rotation_axis\n",
    "    new_axis = np.zeros(3, dtype=np.float64)\n",
    "    new_axis[0] = 1.0\n",
    "\n",
    "    if (np.linalg.norm(np.cross(new_axis, axis)) <= 1e-8):\n",
    "        # If this relative is valid, then rotation_axis[0] ~ 1 while  rotation_axis[1] = rotation_axis[2] = 0\n",
    "        new_axis[0] = 0.0\n",
    "        new_axis[1] = 1.0\n",
    "\n",
    "    # print(newAxis)\n",
    "\n",
    "    # Step 2: remove the projection of the newAxis on the rotation_axis direction\n",
    "    new_axis -= axis * np.dot(axis, new_axis)\n",
    "    new_axis /= np.linalg.norm(new_axis)\n",
    "\n",
    "    # print(newAxis)\n",
    "\n",
    "    # Step 2: get the other vector though cross project\n",
    "    new_axis2 = np.cross(axis, new_axis)\n",
    "\n",
    "    # Construct the matrix\n",
    "    rotMat = np.zeros((3, 3))\n",
    "    rotMat += np.outer(axis, axis) + np.cos(angleRadian) * (\n",
    "            np.outer(new_axis, new_axis) + np.outer(new_axis2, new_axis2))\n",
    "    rotMat += np.sin(angleRadian) * (np.outer(new_axis2, new_axis) - np.outer(new_axis, new_axis2))\n",
    "\n",
    "    return rotMat"
   ],
   "metadata": {
    "collapsed": false,
    "ExecuteTime": {
     "end_time": "2024-08-24T05:00:05.205416800Z",
     "start_time": "2024-08-24T05:00:05.183052500Z"
    }
   },
   "id": "266bf2c14ad88d0"
  },
  {
   "cell_type": "code",
   "execution_count": 8,
   "outputs": [
    {
     "data": {
      "text/plain": "2.9979245800000003"
     },
     "execution_count": 8,
     "metadata": {},
     "output_type": "execute_result"
    }
   ],
   "source": [
    "c * 10"
   ],
   "metadata": {
    "collapsed": false,
    "ExecuteTime": {
     "end_time": "2024-08-24T05:00:12.187848300Z",
     "start_time": "2024-08-24T05:00:12.122021600Z"
    }
   },
   "id": "81c4a254605c22cc"
  },
  {
   "cell_type": "code",
   "execution_count": 23,
   "outputs": [],
   "source": [
    "def get_device_rot_mat(angle1, angle2, angle3):\n",
    "    # angle 1: rotation around the vertical axis\n",
    "    # angle 2: rotation around the propagatoin axis\n",
    "    # angle 3: rotation around the horizontal axis\n",
    "\n",
    "    # Coordiante definition\n",
    "    #  (horizontal, vertical, propagation)\n",
    "\n",
    "    rot_axis_1 = np.array([0., 1., 0.])  # Rotation axis of the first motion, i.e., vertical\n",
    "    rot_axis_2 = np.array([0., 0., 1.])  # Rotation axis of the second motion, i.e.,  propagation\n",
    "    rot_axis_3 = np.array([1., 0., 0.])  # Rotation axis of the third motion, i.e.,  horizontal\n",
    "\n",
    "    # Calculate the rotation matrix for each axis\n",
    "    rot_mat1 = get_rotmat_around_axis(angleRadian=-angle1, axis=rot_axis_1)\n",
    "    rot_mat2 = get_rotmat_around_axis(angleRadian=-angle2, axis=rot_axis_2)\n",
    "    rot_mat3 = get_rotmat_around_axis(angleRadian=angle3, axis=rot_axis_3)\n",
    "\n",
    "    # Rotate the vector from 3 to 2 to 1\n",
    "    rot_mat_tot = np.dot(rot_mat1, np.dot(rot_mat2, rot_mat3))\n",
    "\n",
    "    return rot_mat_tot"
   ],
   "metadata": {
    "collapsed": false,
    "ExecuteTime": {
     "end_time": "2024-08-23T06:47:38.746897700Z",
     "start_time": "2024-08-23T06:47:38.728755Z"
    }
   },
   "id": "b2cb169fcb252728"
  },
  {
   "cell_type": "markdown",
   "source": [
    "### Test vectors"
   ],
   "metadata": {
    "collapsed": false
   },
   "id": "7b51c0990789aa13"
  },
  {
   "cell_type": "code",
   "execution_count": 24,
   "outputs": [],
   "source": [
    "horizontal_vec = np.array([1., 0., 0.])\n",
    "vertical_vec = np.array([0., 1., 0.])\n",
    "propagation_vec = np.array([0., 0., 1.])"
   ],
   "metadata": {
    "collapsed": false,
    "ExecuteTime": {
     "end_time": "2024-08-23T06:47:39.084975500Z",
     "start_time": "2024-08-23T06:47:39.067391600Z"
    }
   },
   "id": "16b19b299f7730db"
  },
  {
   "cell_type": "code",
   "execution_count": 25,
   "outputs": [
    {
     "name": "stdout",
     "output_type": "stream",
     "text": [
      "[1. 0. 0.]\n"
     ]
    }
   ],
   "source": [
    "rotation = get_device_rot_mat(angle1=np.deg2rad(0),\n",
    "                              angle2=np.deg2rad(0),\n",
    "                              angle3=np.deg2rad(0),\n",
    "                              )\n",
    "print(np.dot(rotation, horizontal_vec))"
   ],
   "metadata": {
    "collapsed": false,
    "ExecuteTime": {
     "end_time": "2024-08-23T06:47:39.251955200Z",
     "start_time": "2024-08-23T06:47:39.237954800Z"
    }
   },
   "id": "11f3e417298932b7"
  },
  {
   "cell_type": "markdown",
   "source": [
    "### Calculate the Bragg condition"
   ],
   "metadata": {
    "collapsed": false
   },
   "id": "eeecc1bb8cc79fd6"
  },
  {
   "cell_type": "code",
   "execution_count": 26,
   "outputs": [
    {
     "name": "stdout",
     "output_type": "stream",
     "text": [
      "nno103 [11564.4285268  14023.71508611 19890.4216885 ]\n",
      "nno0m13 [    0.         23372.85847685 13260.28112567]\n",
      "ngo103 [11564.4285268  14023.71508611 19890.4216885 ]\n",
      "ngo0m13 [    0.         23372.85847685 13260.28112567]\n"
     ]
    }
   ],
   "source": [
    "# long_edge : 100\n",
    "# short_edge : 012\n",
    "# normal: 0,-1,1\n",
    "# Notice that:  (1, 0, 3) = (1, 0, 0) + (0, 1, 2) + (0, -1, 1)\n",
    "#  (0, 0, 3) = (0, 1, 2) + (0, -1, 1)\n",
    "#  (0, 3, 0) = (0, 1, 2) - 2 * (0, -1, 1)\n",
    "#  (0, -1 ,3) = ((0, 1, 2) + (0, -1, 1)) - 1/3 * ((0, 1, 2) - 2 * (0, -1, 1))\n",
    "#             = 2 / 3 * (0, 1, 2) + 5 / 3 * (0, -1, 1)\n",
    "\n",
    "# Define the parameter for nno\n",
    "nno100 = np.array([1., 0., 0., ]) * np.pi * 2 / (5.4332 * 1e-4)\n",
    "nno012 = np.array([0., 0., 1., ]) * np.pi * 2 / (3.1589 * 1e-4)\n",
    "nno0m11 = np.array([0., 1., 0., ]) * np.pi * 2 / (4.4804 * 1e-4)\n",
    "\n",
    "nno003 = nno012 + nno0m11\n",
    "nno030 = nno012 - 2 * nno0m11\n",
    "\n",
    "nno103 = nno100 + nno012 + nno0m11\n",
    "nno0m13 = nno003 - 1/3 * nno030\n",
    "print(\"nno103\", nno103)\n",
    "print(\"nno0m13\", nno0m13)\n",
    "\n",
    "# Define the parameter for ngo\n",
    "ngo100 = np.array([1., 0., 0., ]) * np.pi * 2 / (5.4332 * 1e-4)\n",
    "ngo012 = np.array([0., 0., 1., ]) * np.pi * 2 / (3.1589 * 1e-4)\n",
    "ngo0m11 = np.array([0., 1., 0., ]) * np.pi * 2 / (4.4804 * 1e-4)\n",
    "\n",
    "ngo003 = ngo012 + ngo0m11\n",
    "ngo030 = ngo012 - 2 * ngo0m11\n",
    "\n",
    "ngo103 = ngo100 + ngo012 + ngo0m11\n",
    "ngo0m13 = ngo003 - 1/3 * ngo030\n",
    "print(\"ngo103\", ngo103)\n",
    "print(\"ngo0m13\", ngo0m13)"
   ],
   "metadata": {
    "collapsed": false,
    "ExecuteTime": {
     "end_time": "2024-08-23T06:47:39.583339600Z",
     "start_time": "2024-08-23T06:47:39.556905300Z"
    }
   },
   "id": "98444538ce6e88f7"
  },
  {
   "cell_type": "code",
   "execution_count": 29,
   "outputs": [],
   "source": [
    "kin1_len = kev_to_wavevec_length(energy=9.2)\n",
    "kin2_len = kev_to_wavevec_length(energy=8.3)\n",
    "\n",
    "kin1 = np.array([0., 0., kin1_len])\n",
    "kin2 = np.array([0., 0., kin2_len])"
   ],
   "metadata": {
    "collapsed": false,
    "ExecuteTime": {
     "end_time": "2024-08-23T06:47:45.719617700Z",
     "start_time": "2024-08-23T06:47:45.709261200Z"
    }
   },
   "id": "2d2eddfe0947e26b"
  },
  {
   "cell_type": "markdown",
   "source": [
    "### Rotate to find the Bragg peak"
   ],
   "metadata": {
    "collapsed": false
   },
   "id": "b501e4e9767dc98f"
  },
  {
   "cell_type": "code",
   "execution_count": 45,
   "outputs": [
    {
     "name": "stdout",
     "output_type": "stream",
     "text": [
      "Minimization success: False\n",
      "angle1 (deg) 8.145572044963691\n",
      "angle3 (deg) 148.21510863873894\n",
      "error 1.9556289771571755e-05\n",
      "[ 12796.7406098  -22397.51616305  38836.97076103]\n"
     ]
    }
   ],
   "source": [
    "# The X-ray is always along the propagation direction, \n",
    "# Therefore rotating around the angle 2 is not useful\n",
    "# Therefore, we want to first rotate angle 1 so that the lattice is inthe\n",
    "def errorfun(angles):\n",
    "    error = np.abs(np.linalg.norm(kin1 + np.dot(get_device_rot_mat(angle1=angles[0],\n",
    "                                                     angle2=np.deg2rad(0),\n",
    "                                                     angle3=angles[1]), ngo103))\n",
    "                   - kin1_len)\n",
    "    return error\n",
    "\n",
    "res = minimize(fun=errorfun,\n",
    "               x0=np.array((np.deg2rad(10), np.deg2rad(100))), \n",
    "               bounds=[[0, 2 * np.pi],\n",
    "                       [0, 2 * np.pi]])\n",
    "print(\"Minimization success:\", res['success'])\n",
    "print(\"angle1 (deg)\", np.rad2deg(res['x'][0]))\n",
    "print(\"angle3 (deg)\", np.rad2deg(res['x'][1]))\n",
    "print(\"error\",errorfun(res['x']))\n",
    "\n",
    "kout = kin1 + np.dot(get_device_rot_mat(angle1=res['x'][0],\n",
    "                                        angle2=np.deg2rad(0.),\n",
    "                                        angle3=res['x'][1],\n",
    "                                        ), ngo103)\n",
    "print(kout)"
   ],
   "metadata": {
    "collapsed": false,
    "ExecuteTime": {
     "end_time": "2024-08-23T07:10:24.304550Z",
     "start_time": "2024-08-23T07:10:24.140254500Z"
    }
   },
   "id": "c5b1338aa490a70f"
  },
  {
   "cell_type": "markdown",
   "source": [
    "# Play with the other motor to steer the output wave-vector"
   ],
   "metadata": {
    "collapsed": false
   },
   "id": "46725641916b617e"
  },
  {
   "cell_type": "code",
   "execution_count": 66,
   "outputs": [
    {
     "name": "stdout",
     "output_type": "stream",
     "text": [
      "Minimization success: False\n",
      "angle1 (deg) 35.44995938652372\n",
      "angle2 (deg) -45.5\n",
      "angle3 (deg) 186.27435738931945\n",
      "error 2.073429641313851e-07\n",
      "kout [2.57954511e+04 1.50606787e+00 3.88369707e+04]\n",
      "2 theta (deg): 33.5920461932728\n"
     ]
    }
   ],
   "source": [
    "# The X-ray is always along the propagation direction, \n",
    "# Therefore rotating around the angle 2 is not useful\n",
    "# Therefore, we want to first rotate angle 1 so that the lattice is inthe\n",
    "angle2_val = np.deg2rad(-45.5)\n",
    "\n",
    "def errorfun(angles):\n",
    "    error = np.abs(np.linalg.norm(kin1 + np.dot(get_device_rot_mat(angle1=angles[0],\n",
    "                                                     angle2=angle2_val,\n",
    "                                                     angle3=angles[1]), ngo103))\n",
    "                   - kin1_len)\n",
    "    return error\n",
    "\n",
    "res = minimize(fun=errorfun,\n",
    "               x0=np.array((np.deg2rad(20), np.deg2rad(100))), \n",
    "               bounds=[[0, 2 * np.pi],\n",
    "                       [0, 2 * np.pi]])\n",
    "print(\"Minimization success:\", res['success'])\n",
    "print(\"angle1 (deg)\", np.rad2deg(res['x'][0]))\n",
    "print(\"angle2 (deg)\", np.rad2deg(angle2_val))\n",
    "print(\"angle3 (deg)\", np.rad2deg(res['x'][1]))\n",
    "print(\"error\",errorfun(res['x']))\n",
    "\n",
    "kout = kin1 + np.dot(get_device_rot_mat(angle1=res['x'][0],\n",
    "                                        angle2=angle2_val,\n",
    "                                        angle3=res['x'][1],\n",
    "                                        ), ngo103)\n",
    "print(\"kout\", kout)\n",
    "\n",
    "print(\"2 theta (deg):\", np.rad2deg(np.arccos(np.dot(kin1 / np.linalg.norm(kin1),\n",
    "                                                    kout / np.linalg.norm(kout)\n",
    "                                                    ))))"
   ],
   "metadata": {
    "collapsed": false,
    "ExecuteTime": {
     "end_time": "2024-08-23T07:15:32.456547800Z",
     "start_time": "2024-08-23T07:15:32.296431700Z"
    }
   },
   "id": "549a7380ca20be5d"
  },
  {
   "cell_type": "code",
   "execution_count": null,
   "outputs": [],
   "source": [],
   "metadata": {
    "collapsed": false
   },
   "id": "af9949cc4bcfbdeb"
  }
 ],
 "metadata": {
  "kernelspec": {
   "display_name": "Python 3",
   "language": "python",
   "name": "python3"
  },
  "language_info": {
   "codemirror_mode": {
    "name": "ipython",
    "version": 2
   },
   "file_extension": ".py",
   "mimetype": "text/x-python",
   "name": "python",
   "nbconvert_exporter": "python",
   "pygments_lexer": "ipython2",
   "version": "2.7.6"
  }
 },
 "nbformat": 4,
 "nbformat_minor": 5
}
