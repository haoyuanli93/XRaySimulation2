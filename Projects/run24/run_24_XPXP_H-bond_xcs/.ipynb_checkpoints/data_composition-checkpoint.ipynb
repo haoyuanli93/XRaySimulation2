{
 "cells": [
  {
   "cell_type": "code",
   "execution_count": 1,
   "id": "f748e15e-ca68-45b3-8f6b-8c878552d739",
   "metadata": {},
   "outputs": [],
   "source": [
    "import numpy as np\n",
    "import matplotlib.pyplot as plt\n",
    "import matplotlib\n",
    "from matplotlib import colormaps\n",
    "import sys\n",
    "\n",
    "sys.path.append(\"../../../../XRaySimulation\")\n",
    "from XRaySimulation import util, RockingCurve, Pulse\n",
    "\n",
    "matplotlib.rcParams['font.family'] = ['serif']\n",
    "matplotlib.rcParams['font.size'] = 12"
   ]
  },
  {
   "cell_type": "code",
   "execution_count": 3,
   "id": "b9a83ea1-d8fb-4a02-8de7-262359bd3522",
   "metadata": {},
   "outputs": [
    {
     "ename": "FileNotFoundError",
     "evalue": "[Errno 2] No such file or directory: './Water.npz'",
     "output_type": "error",
     "traceback": [
      "\u001b[1;31m---------------------------------------------------------------------------\u001b[0m",
      "\u001b[1;31mFileNotFoundError\u001b[0m                         Traceback (most recent call last)",
      "Cell \u001b[1;32mIn[3], line 3\u001b[0m\n\u001b[0;32m      1\u001b[0m \u001b[38;5;66;03m## Load the water data\u001b[39;00m\n\u001b[0;32m      2\u001b[0m water_delays \u001b[38;5;241m=\u001b[39m np\u001b[38;5;241m.\u001b[39mconcatenate((np\u001b[38;5;241m.\u001b[39marange(\u001b[38;5;241m0.0\u001b[39m,\u001b[38;5;241m0.5\u001b[39m,\u001b[38;5;241m0.05\u001b[39m), np\u001b[38;5;241m.\u001b[39marange(\u001b[38;5;241m0.5\u001b[39m,\u001b[38;5;241m3.5\u001b[39m,\u001b[38;5;241m0.1\u001b[39m), [\u001b[38;5;241m9.376401551718187\u001b[39m]))\n\u001b[1;32m----> 3\u001b[0m water_data \u001b[38;5;241m=\u001b[39m \u001b[43mnp\u001b[49m\u001b[38;5;241;43m.\u001b[39;49m\u001b[43mload\u001b[49m\u001b[43m(\u001b[49m\u001b[38;5;124;43m'\u001b[39;49m\u001b[38;5;124;43m./Water.npz\u001b[39;49m\u001b[38;5;124;43m'\u001b[39;49m\u001b[43m,\u001b[49m\u001b[43mallow_pickle\u001b[49m\u001b[38;5;241;43m=\u001b[39;49m\u001b[38;5;28;43;01mTrue\u001b[39;49;00m\u001b[43m)\u001b[49m\n\u001b[0;32m      5\u001b[0m water_iso_q_lines_temp \u001b[38;5;241m=\u001b[39m water_data[\u001b[38;5;124m'\u001b[39m\u001b[38;5;124miso_q_lines_temp\u001b[39m\u001b[38;5;124m'\u001b[39m]\n\u001b[0;32m      6\u001b[0m water_Delta_I \u001b[38;5;241m=\u001b[39m water_data[\u001b[38;5;124m'\u001b[39m\u001b[38;5;124mDelta_I\u001b[39m\u001b[38;5;124m'\u001b[39m]\n",
      "File \u001b[1;32m~\\.conda\\envs\\py38\\lib\\site-packages\\numpy\\lib\\npyio.py:405\u001b[0m, in \u001b[0;36mload\u001b[1;34m(file, mmap_mode, allow_pickle, fix_imports, encoding, max_header_size)\u001b[0m\n\u001b[0;32m    403\u001b[0m     own_fid \u001b[38;5;241m=\u001b[39m \u001b[38;5;28;01mFalse\u001b[39;00m\n\u001b[0;32m    404\u001b[0m \u001b[38;5;28;01melse\u001b[39;00m:\n\u001b[1;32m--> 405\u001b[0m     fid \u001b[38;5;241m=\u001b[39m stack\u001b[38;5;241m.\u001b[39menter_context(\u001b[38;5;28;43mopen\u001b[39;49m\u001b[43m(\u001b[49m\u001b[43mos_fspath\u001b[49m\u001b[43m(\u001b[49m\u001b[43mfile\u001b[49m\u001b[43m)\u001b[49m\u001b[43m,\u001b[49m\u001b[43m \u001b[49m\u001b[38;5;124;43m\"\u001b[39;49m\u001b[38;5;124;43mrb\u001b[39;49m\u001b[38;5;124;43m\"\u001b[39;49m\u001b[43m)\u001b[49m)\n\u001b[0;32m    406\u001b[0m     own_fid \u001b[38;5;241m=\u001b[39m \u001b[38;5;28;01mTrue\u001b[39;00m\n\u001b[0;32m    408\u001b[0m \u001b[38;5;66;03m# Code to distinguish from NumPy binary files and pickles.\u001b[39;00m\n",
      "\u001b[1;31mFileNotFoundError\u001b[0m: [Errno 2] No such file or directory: './Water.npz'"
     ]
    }
   ],
   "source": [
    "## Load the water data\n",
    "water_delays = np.concatenate((np.arange(0.0,0.5,0.05), np.arange(0.5,3.5,0.1), [9.376401551718187]))\n",
    "water_data = np.load('./Water.npz',allow_pickle=True)\n",
    "\n",
    "water_iso_q_lines_temp = water_data['iso_q_lines_temp']\n",
    "water_Delta_I = water_data['Delta_I']\n",
    "\n",
    "## Laod CO2 data\n",
    "co2_delays = np.concatenate((np.arange(0.0,2.1,0.1), [2.9989, 3.9985, 4.99813, 5.9977, 9.996, 13.994]))\n",
    "co2_data = np.load('./CO2.npz',allow_pickle=True)\n",
    "\n",
    "co2_iso_q_lines_temp = co2_data['iso_q_lines_temp']\n",
    "co2_Delta_I = co2_data['Delta_I']\n",
    "\n",
    "## Laod ethanol data\n",
    "ethanol_delays = np.concatenate((np.arange(0.0,3.4,0.1),[3.9479659504512252,4.93,5.99,9.99,13.49]))\n",
    "ethanol_data = np.load('./Ethanol.npz',allow_pickle=True)\n",
    "\n",
    "ethanol_iso_q_lines_temp = ethanol_data['iso_q_lines_temp']\n",
    "ethanol_Delta_I = ethanol_data['Delta_I']"
   ]
  },
  {
   "cell_type": "code",
   "execution_count": 4,
   "id": "c90aeecb-a553-4597-be28-d2ebaacaca79",
   "metadata": {},
   "outputs": [
    {
     "data": {
      "text/plain": [
       "'C:\\\\Users\\\\haoyu\\\\Documents\\\\GitHub\\\\XRaySimulation2'"
      ]
     },
     "execution_count": 4,
     "metadata": {},
     "output_type": "execute_result"
    }
   ],
   "source": [
    "pwd"
   ]
  },
  {
   "cell_type": "code",
   "execution_count": null,
   "id": "1c38a664-0538-49f0-832c-8d6344f9d345",
   "metadata": {},
   "outputs": [],
   "source": []
  }
 ],
 "metadata": {
  "kernelspec": {
   "display_name": "Python 3 (ipykernel)",
   "language": "python",
   "name": "python3"
  },
  "language_info": {
   "codemirror_mode": {
    "name": "ipython",
    "version": 3
   },
   "file_extension": ".py",
   "mimetype": "text/x-python",
   "name": "python",
   "nbconvert_exporter": "python",
   "pygments_lexer": "ipython3",
   "version": "3.8.18"
  }
 },
 "nbformat": 4,
 "nbformat_minor": 5
}
